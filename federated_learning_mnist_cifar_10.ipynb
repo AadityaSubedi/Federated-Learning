{
  "cells": [
    {
      "cell_type": "markdown",
      "metadata": {
        "id": "view-in-github",
        "colab_type": "text"
      },
      "source": [
        "<a href=\"https://colab.research.google.com/github/Saugatkafley/Federated-Learning/blob/main/federated_learning_mnist_cifar_10.ipynb\" target=\"_parent\"><img src=\"https://colab.research.google.com/assets/colab-badge.svg\" alt=\"Open In Colab\"/></a>"
      ]
    },
    {
      "cell_type": "markdown",
      "source": [
        "## Mounting Kaggle Dataset MNIST as jpg.\n",
        "At first you have to upload the `kaggle.json` file , which can be obtained from `kaggle.com` -> `Account Settings`.\n",
        "Scroll a bit and there obtain `Create New API token`. \n",
        "Then upload it to the directory."
      ],
      "metadata": {
        "id": "tL1cV9R2Ymmo"
      }
    },
    {
      "cell_type": "code",
      "source": [
        "!pip install kaggle"
      ],
      "metadata": {
        "colab": {
          "base_uri": "https://localhost:8080/"
        },
        "id": "89TIcP1CYfLX",
        "outputId": "c591785d-810d-4d05-f8d7-22679dbfce4e"
      },
      "execution_count": 1,
      "outputs": [
        {
          "output_type": "stream",
          "name": "stdout",
          "text": [
            "Requirement already satisfied: kaggle in /usr/local/lib/python3.7/dist-packages (1.5.12)\n",
            "Requirement already satisfied: requests in /usr/local/lib/python3.7/dist-packages (from kaggle) (2.23.0)\n",
            "Requirement already satisfied: certifi in /usr/local/lib/python3.7/dist-packages (from kaggle) (2021.10.8)\n",
            "Requirement already satisfied: six>=1.10 in /usr/local/lib/python3.7/dist-packages (from kaggle) (1.15.0)\n",
            "Requirement already satisfied: urllib3 in /usr/local/lib/python3.7/dist-packages (from kaggle) (1.24.3)\n",
            "Requirement already satisfied: python-slugify in /usr/local/lib/python3.7/dist-packages (from kaggle) (5.0.2)\n",
            "Requirement already satisfied: python-dateutil in /usr/local/lib/python3.7/dist-packages (from kaggle) (2.8.2)\n",
            "Requirement already satisfied: tqdm in /usr/local/lib/python3.7/dist-packages (from kaggle) (4.62.3)\n",
            "Requirement already satisfied: text-unidecode>=1.3 in /usr/local/lib/python3.7/dist-packages (from python-slugify->kaggle) (1.3)\n",
            "Requirement already satisfied: idna<3,>=2.5 in /usr/local/lib/python3.7/dist-packages (from requests->kaggle) (2.10)\n",
            "Requirement already satisfied: chardet<4,>=3.0.2 in /usr/local/lib/python3.7/dist-packages (from requests->kaggle) (3.0.4)\n"
          ]
        }
      ]
    },
    {
      "cell_type": "markdown",
      "source": [
        "Making a directory --> `./kaggle` \n",
        "\n",
        "Copying `kaggle.json` to the directory\n",
        "\n",
        "Changing the permisssion to `600`."
      ],
      "metadata": {
        "id": "rU8sVujueF-y"
      }
    },
    {
      "cell_type": "code",
      "source": [
        "! mkdir ~/.kaggle\n",
        "! cp kaggle.json ~/.kaggle/\n",
        "! chmod 600 ~/.kaggle/kaggle.json"
      ],
      "metadata": {
        "id": "Vw8EJD5GZltR"
      },
      "execution_count": 2,
      "outputs": []
    },
    {
      "cell_type": "code",
      "source": [
        "! kaggle datasets download -d scolianni/mnistasjpg"
      ],
      "metadata": {
        "colab": {
          "base_uri": "https://localhost:8080/"
        },
        "id": "9Idofq9fZ7YA",
        "outputId": "6e7eb129-91c7-4957-8949-2e3312a730a4"
      },
      "execution_count": 3,
      "outputs": [
        {
          "output_type": "stream",
          "name": "stdout",
          "text": [
            "Downloading mnistasjpg.zip to /content\n",
            " 92% 63.0M/68.4M [00:00<00:00, 105MB/s] \n",
            "100% 68.4M/68.4M [00:00<00:00, 103MB/s]\n"
          ]
        }
      ]
    },
    {
      "cell_type": "code",
      "source": [
        "! unzip mnistasjpg.zip"
      ],
      "metadata": {
        "id": "EMT1AohGbEEM"
      },
      "execution_count": null,
      "outputs": []
    },
    {
      "cell_type": "code",
      "execution_count": 5,
      "metadata": {
        "_cell_guid": "b1076dfc-b9ad-4769-8c92-a6c4dae69d19",
        "_uuid": "8f2839f25d086af736a60e9eeb907d3b93b6e0e5",
        "execution": {
          "iopub.execute_input": "2022-01-27T04:28:07.444779Z",
          "iopub.status.busy": "2022-01-27T04:28:07.444373Z",
          "iopub.status.idle": "2022-01-27T04:28:09.61637Z",
          "shell.execute_reply": "2022-01-27T04:28:09.614831Z",
          "shell.execute_reply.started": "2022-01-27T04:28:07.444685Z"
        },
        "trusted": true,
        "id": "pXb8S1S2YajE"
      },
      "outputs": [],
      "source": [
        "import numpy as np\n",
        "import pandas as pd\n",
        "import random\n",
        "import cv2\n",
        "import os\n",
        "from tqdm import tqdm\n",
        "\n",
        "from sklearn.model_selection import train_test_split\n",
        "from sklearn.preprocessing import LabelBinarizer\n",
        "from sklearn.model_selection import train_test_split\n",
        "from sklearn.utils import shuffle\n",
        "from sklearn.metrics import accuracy_score\n",
        "\n",
        "import tensorflow as tf\n",
        "from tensorflow import expand_dims\n",
        "from tensorflow.keras.models import Sequential\n",
        "from tensorflow.keras.layers import Conv2D, Input, Lambda\n",
        "from tensorflow.keras.layers import MaxPooling2D\n",
        "from tensorflow.keras.layers import Activation\n",
        "from tensorflow.keras.layers import Flatten\n",
        "from tensorflow.keras.layers import Dense\n",
        "from tensorflow.keras.optimizers import SGD\n",
        "from tensorflow.keras import backend as K"
      ]
    },
    {
      "cell_type": "code",
      "execution_count": 6,
      "metadata": {
        "execution": {
          "iopub.execute_input": "2022-01-27T04:30:29.106886Z",
          "iopub.status.busy": "2022-01-27T04:30:29.105986Z",
          "iopub.status.idle": "2022-01-27T04:30:29.92926Z",
          "shell.execute_reply": "2022-01-27T04:30:29.928033Z",
          "shell.execute_reply.started": "2022-01-27T04:30:29.106834Z"
        },
        "trusted": true,
        "colab": {
          "base_uri": "https://localhost:8080/"
        },
        "id": "KJ2v28HmYajT",
        "outputId": "ce3de197-2749-4bc5-caef-40b32e35a855"
      },
      "outputs": [
        {
          "output_type": "stream",
          "name": "stdout",
          "text": [
            "Python 3.7.12\n"
          ]
        }
      ],
      "source": [
        "!python --version"
      ]
    },
    {
      "cell_type": "code",
      "execution_count": 7,
      "metadata": {
        "execution": {
          "iopub.execute_input": "2022-01-27T04:31:36.21652Z",
          "iopub.status.busy": "2022-01-27T04:31:36.215894Z"
        },
        "trusted": true,
        "colab": {
          "base_uri": "https://localhost:8080/"
        },
        "id": "gAZMnjgmYajW",
        "outputId": "419a4141-6abf-49a9-b92c-0c67cb0abd8b"
      },
      "outputs": [
        {
          "output_type": "stream",
          "name": "stdout",
          "text": [
            "Requirement already satisfied: imutils in /usr/local/lib/python3.7/dist-packages (0.5.4)\n"
          ]
        }
      ],
      "source": [
        "!pip install imutils\n",
        "from imutils import paths"
      ]
    },
    {
      "cell_type": "markdown",
      "metadata": {
        "id": "OpNPTshBYajY"
      },
      "source": [
        "### Todo\n",
        "\n",
        "create subset of clients\n",
        "\n",
        "- increase comm rounds 300\n",
        "- increase hidden units 400\n",
        "- increase no of layers\n",
        "- no of clients 20"
      ]
    },
    {
      "cell_type": "code",
      "execution_count": 8,
      "metadata": {
        "execution": {
          "iopub.execute_input": "2022-01-27T04:30:57.4605Z",
          "iopub.status.busy": "2022-01-27T04:30:57.460124Z",
          "iopub.status.idle": "2022-01-27T04:30:57.464565Z",
          "shell.execute_reply": "2022-01-27T04:30:57.463617Z",
          "shell.execute_reply.started": "2022-01-27T04:30:57.460461Z"
        },
        "trusted": true,
        "id": "U6_PtosDYajb"
      },
      "outputs": [],
      "source": [
        "debug = 0"
      ]
    },
    {
      "cell_type": "code",
      "execution_count": 13,
      "metadata": {
        "execution": {
          "iopub.execute_input": "2022-01-27T04:31:01.590532Z",
          "iopub.status.busy": "2022-01-27T04:31:01.590054Z",
          "iopub.status.idle": "2022-01-27T04:31:01.610358Z",
          "shell.execute_reply": "2022-01-27T04:31:01.609043Z",
          "shell.execute_reply.started": "2022-01-27T04:31:01.590497Z"
        },
        "trusted": true,
        "id": "r9aOeT09Yajf"
      },
      "outputs": [],
      "source": [
        "def load(paths, verbose=-1):\n",
        "    '''expects images for each class in seperate dir, \n",
        "    e.g all digits in 0 class in the directory named 0 '''\n",
        "    data = list()\n",
        "    labels = list()\n",
        "    # loop over the input images\n",
        "    for (i, imgpath) in enumerate(paths):\n",
        "        # load the image and extract the class labels        \n",
        "        im_gray = cv2.imread(imgpath , cv2.IMREAD_GRAYSCALE)\n",
        "        image = np.array(im_gray).flatten() # cv2.imread(imgpath) \n",
        "        # print(image.shape)\n",
        "        label = imgpath.split(os.path.sep)[-2]\n",
        "        # scale the image to [0, 1] and add to list\n",
        "        data.append(image/255)\n",
        "        labels.append(label)\n",
        "        # show an update every `verbose` images\n",
        "        if verbose > 0 and i > 0 and (i + 1) % verbose == 0:\n",
        "            print(\"[INFO] processed {}/{}\".format(i + 1, len(paths)))\n",
        "    # return a tuple of the data and labels\n",
        "    \n",
        "    return data, labels\n",
        "\n",
        "def create_clients(image_list, label_list, num_clients=100, initial='clients'):\n",
        "    ''' return: a dictionary with keys clients' names and value as \n",
        "                data shards - tuple of images and label lists.\n",
        "        args: \n",
        "            image_list: a list of numpy arrays of training images\n",
        "            label_list:a list of binarized labels for each image\n",
        "            num_client: number of fedrated members (clients)\n",
        "            initials: the clients'name prefix, e.g, clients_1 \n",
        "            \n",
        "    '''\n",
        "\n",
        "    #create a list of client names\n",
        "    client_names = ['{}_{}'.format(initial, i+1) for i in range(num_clients)]\n",
        "\n",
        "    #randomize the data\n",
        "    data = list(zip(image_list, label_list))\n",
        "    random.shuffle(data)  # <- IID\n",
        "    \n",
        "    # sort data for non-iid\n",
        "#     max_y = np.argmax(label_list, axis=-1)\n",
        "#     sorted_zip = sorted(zip(max_y, label_list, image_list), key=lambda x: x[0])\n",
        "#     data = [(x,y) for _,y,x in sorted_zip]\n",
        "\n",
        "    #shard data and place at each client\n",
        "    size = len(data)//num_clients\n",
        "    shards = [data[i:i + size] for i in range(0, size*num_clients, size)]\n",
        "\n",
        "    #number of clients must equal number of shards\n",
        "    assert(len(shards) == len(client_names))\n",
        "\n",
        "    return {client_names[i] : shards[i] for i in range(len(client_names))} \n",
        "\n",
        "\n",
        "def batch_data(data_shard, bs=32):\n",
        "    '''Takes in a clients data shard and create a tfds object off it\n",
        "    args:\n",
        "        shard: a data, label constituting a client's data shard\n",
        "        bs:batch size\n",
        "    return:\n",
        "        tfds object'''\n",
        "    #seperate shard into data and labels lists\n",
        "    data, label = zip(*data_shard)\n",
        "    dataset = tf.data.Dataset.from_tensor_slices((list(data), list(label)))\n",
        "    return dataset.shuffle(len(label)).batch(bs)\n",
        "\n",
        "\n",
        "def weight_scalling_factor(clients_trn_data, client_name):\n",
        "    client_names = list(clients_trn_data.keys())\n",
        "    #get the bs\n",
        "    bs = list(clients_trn_data[client_name])[0][0].shape[0]\n",
        "    #first calculate the total training data points across clinets\n",
        "    global_count = sum([tf.data.experimental.cardinality(clients_trn_data[client_name]).numpy() for client_name in client_names])*bs\n",
        "    # get the total number of data points held by a client\n",
        "    local_count = tf.data.experimental.cardinality(clients_trn_data[client_name]).numpy()*bs\n",
        "    \n",
        "    \n",
        "    if debug:\n",
        "        print('global_count', global_count, 'local_count', local_count, 'bs', bs)\n",
        "    \n",
        "    return local_count/global_count\n",
        "\n",
        "\n",
        "def scale_model_weights(weight, scalar):\n",
        "    '''function for scaling a models weights'''\n",
        "    weight_final = []\n",
        "    steps = len(weight)\n",
        "    for i in range(steps):\n",
        "        weight_final.append(scalar * weight[i])\n",
        "    return weight_final\n",
        "\n",
        "\n",
        "\n",
        "def sum_scaled_weights(scaled_weight_list):\n",
        "    '''Return the sum of the listed scaled weights. The is equivalent to scaled avg of the weights'''\n",
        "    avg_grad = list()\n",
        "    #get the average grad accross all client gradients\n",
        "    for grad_list_tuple in zip(*scaled_weight_list):\n",
        "        layer_mean = tf.math.reduce_sum(grad_list_tuple, axis=0)\n",
        "        avg_grad.append(layer_mean)\n",
        "        \n",
        "    return avg_grad\n",
        "\n",
        "\n",
        "def test_model(X_test, Y_test,  model, comm_round):\n",
        "    cce = tf.keras.losses.CategoricalCrossentropy(from_logits=True)\n",
        "    #logits = model.predict(X_test, batch_size=100)\n",
        "    logits = model.predict(X_test)\n",
        "    loss = cce(Y_test, logits)\n",
        "    acc = accuracy_score(tf.argmax(logits, axis=1), tf.argmax(Y_test, axis=1))\n",
        "    print('comm_round: {} | global_acc: {:.3%} | global_loss: {}'.format(comm_round, acc, loss))\n",
        "    return acc, loss\n"
      ]
    },
    {
      "cell_type": "code",
      "execution_count": 9,
      "metadata": {
        "execution": {
          "iopub.execute_input": "2022-01-27T04:31:07.585317Z",
          "iopub.status.busy": "2022-01-27T04:31:07.584964Z",
          "iopub.status.idle": "2022-01-27T04:31:07.591179Z",
          "shell.execute_reply": "2022-01-27T04:31:07.590269Z",
          "shell.execute_reply.started": "2022-01-27T04:31:07.585275Z"
        },
        "trusted": true,
        "id": "8Uz_8zUNYajo"
      },
      "outputs": [],
      "source": [
        "class SimpleMLP:\n",
        "    @staticmethod\n",
        "    def build(shape, classes):\n",
        "        model = Sequential()\n",
        "        model.add(Dense(200, input_shape=(shape,)))\n",
        "        model.add(Activation(\"relu\"))\n",
        "        model.add(Dense(200))\n",
        "        model.add(Activation(\"relu\"))\n",
        "        model.add(Dense(classes))\n",
        "        model.add(Activation(\"softmax\"))\n",
        "        return model\n",
        "    \n",
        "#     def build(shape, classes):\n",
        "#         model = Sequential()\n",
        "#         model.add(Input(shape=(shape[0], shape[1], shape[2])))\n",
        "#         #model.add(Lambda(lambda x: expand_dims(x, axis=-1)))\n",
        "#         model.add(Conv2D(filters=64, kernel_size=3, padding=\"same\"))\n",
        "#         model.add(Activation(\"relu\"))\n",
        "#         model.add(Conv2D(filters=64, kernel_size=3, padding=\"same\"))\n",
        "#         model.add(Activation(\"relu\"))\n",
        "#         model.add(MaxPooling2D())\n",
        "#         model.add(Conv2D(filters=128, kernel_size=3, padding=\"same\"))\n",
        "#         model.add(Activation(\"relu\"))\n",
        "#         model.add(Conv2D(filters=128, kernel_size=3, padding=\"same\"))\n",
        "#         model.add(Activation(\"relu\"))\n",
        "#         model.add(MaxPooling2D())\n",
        "#         model.add(Activation(\"relu\"))\n",
        "#         model.add(Conv2D(filters=256, kernel_size=3, padding=\"same\"))\n",
        "#         model.add(Activation(\"relu\"))\n",
        "#         model.add(Conv2D(filters=256, kernel_size=3, padding=\"same\"))\n",
        "#         model.add(Activation(\"relu\"))\n",
        "#         model.add(MaxPooling2D())\n",
        "#         model.add(Activation(\"relu\"))\n",
        "#         model.add(Conv2D(filters=512, kernel_size=3, padding=\"same\"))\n",
        "#         model.add(Activation(\"relu\"))\n",
        "#         model.add(Conv2D(filters=512, kernel_size=3, padding=\"same\"))\n",
        "#         model.add(Activation(\"relu\"))\n",
        "#         model.add(MaxPooling2D())\n",
        "#         model.add(Flatten())\n",
        "#         model.add(Dense(32))\n",
        "#         model.add(Dense(classes))\n",
        "#         model.add(Activation(\"softmax\"))\n",
        "#         return model"
      ]
    },
    {
      "cell_type": "code",
      "execution_count": null,
      "metadata": {
        "_kg_hide-output": true,
        "execution": {
          "iopub.execute_input": "2022-01-27T04:31:11.382322Z",
          "iopub.status.busy": "2022-01-27T04:31:11.381874Z",
          "iopub.status.idle": "2022-01-27T04:31:11.416809Z",
          "shell.execute_reply": "2022-01-27T04:31:11.415891Z",
          "shell.execute_reply.started": "2022-01-27T04:31:11.38229Z"
        },
        "trusted": true,
        "id": "6jybBZygYajq"
      },
      "outputs": [],
      "source": [
        "#declear path to your mnist data folder\n",
        "# img_path = \"./minstasjpg/trainingSample/trainingSample/\" \n",
        "img_path = \"./trainingSample/trainingSample/\"\n",
        "# '../input/cifar10-pngs-in-folders/cifar10/test'  # <-- test dataset #'../input/mnistasjpg/trainingSample/trainingSample' # <-- smaller dataset\n",
        "image_paths = sorted(list(paths.list_images(img_path)))\n",
        "\n",
        "#apply our function\n",
        "image_list, label_list = load(image_paths, verbose=10000)\n",
        "\n",
        "#binarize the labels\n",
        "lb = LabelBinarizer()\n",
        "label_list = lb.fit_transform(label_list)\n",
        "print(image_list)"
      ]
    },
    {
      "cell_type": "code",
      "execution_count": 15,
      "metadata": {
        "execution": {
          "iopub.execute_input": "2021-07-13T13:05:05.055191Z",
          "iopub.status.busy": "2021-07-13T13:05:05.054706Z",
          "iopub.status.idle": "2021-07-13T13:05:05.083818Z",
          "shell.execute_reply": "2021-07-13T13:05:05.082654Z",
          "shell.execute_reply.started": "2021-07-13T13:05:05.055145Z"
        },
        "trusted": true,
        "id": "X70EUPjLYajr"
      },
      "outputs": [],
      "source": [
        "#split data into training and test set\n",
        "X_train, X_test, y_train, y_test = train_test_split(image_list, \n",
        "                                                    label_list, \n",
        "                                                    test_size=0.1, \n",
        "                                                    random_state=42)"
      ]
    },
    {
      "cell_type": "markdown",
      "metadata": {
        "id": "pwvm90BaYajv"
      },
      "source": [
        "### IID"
      ]
    },
    {
      "cell_type": "code",
      "execution_count": 16,
      "metadata": {
        "execution": {
          "iopub.execute_input": "2021-07-13T14:30:07.110052Z",
          "iopub.status.busy": "2021-07-13T14:30:07.109651Z",
          "iopub.status.idle": "2021-07-13T14:30:07.119319Z",
          "shell.execute_reply": "2021-07-13T14:30:07.117828Z",
          "shell.execute_reply.started": "2021-07-13T14:30:07.110017Z"
        },
        "trusted": true,
        "colab": {
          "base_uri": "https://localhost:8080/"
        },
        "id": "JQh87cnCYajw",
        "outputId": "31631763-4df9-4ec8-a6e5-e91c03fe8413"
      },
      "outputs": [
        {
          "output_type": "execute_result",
          "data": {
            "text/plain": [
              "(540, 60, 540, 60)"
            ]
          },
          "metadata": {},
          "execution_count": 16
        }
      ],
      "source": [
        "len(X_train), len(X_test), len(y_train), len(y_test)"
      ]
    },
    {
      "cell_type": "code",
      "execution_count": 17,
      "metadata": {
        "execution": {
          "iopub.execute_input": "2021-07-13T14:30:07.320814Z",
          "iopub.status.busy": "2021-07-13T14:30:07.320448Z",
          "iopub.status.idle": "2021-07-13T14:30:07.415722Z",
          "shell.execute_reply": "2021-07-13T14:30:07.414583Z",
          "shell.execute_reply.started": "2021-07-13T14:30:07.320781Z"
        },
        "trusted": true,
        "id": "z5iyVxTsYajx"
      },
      "outputs": [],
      "source": [
        "#create clients\n",
        "clients = create_clients(X_train, y_train, num_clients=100, initial='client')"
      ]
    },
    {
      "cell_type": "code",
      "execution_count": 18,
      "metadata": {
        "execution": {
          "iopub.execute_input": "2021-07-13T14:30:07.47536Z",
          "iopub.status.busy": "2021-07-13T14:30:07.474941Z",
          "iopub.status.idle": "2021-07-13T14:30:07.480347Z",
          "shell.execute_reply": "2021-07-13T14:30:07.479094Z",
          "shell.execute_reply.started": "2021-07-13T14:30:07.475327Z"
        },
        "trusted": true,
        "id": "hN_rXO-KYajy"
      },
      "outputs": [],
      "source": [
        "# client_names = ['{}_{}'.format('client', i+1) for i in range(100)]\n",
        "# s = clients['client_1'][0][1]*0\n",
        "# for c in client_names:\n",
        "#     sum = clients[c][0][1]\n",
        "#     for i in range(1,378):\n",
        "#         sum = sum + clients[c][i][1]\n",
        "        \n",
        "#     s = s + sum/378\n",
        "# s"
      ]
    },
    {
      "cell_type": "code",
      "execution_count": 19,
      "metadata": {
        "execution": {
          "iopub.execute_input": "2021-07-13T15:04:24.748877Z",
          "iopub.status.busy": "2021-07-13T15:04:24.748503Z",
          "iopub.status.idle": "2021-07-13T15:04:33.484238Z",
          "shell.execute_reply": "2021-07-13T15:04:33.483097Z",
          "shell.execute_reply.started": "2021-07-13T15:04:24.748844Z"
        },
        "trusted": true,
        "id": "2A0HsxVqYajz"
      },
      "outputs": [],
      "source": [
        "#process and batch the training data for each client\n",
        "clients_batched = dict()\n",
        "for (client_name, data) in clients.items():\n",
        "    clients_batched[client_name] = batch_data(data)\n",
        "    \n",
        "#process and batch the test set  \n",
        "test_batched = tf.data.Dataset.from_tensor_slices((X_test, y_test)).batch(len(y_test))"
      ]
    },
    {
      "cell_type": "code",
      "execution_count": 20,
      "metadata": {
        "execution": {
          "iopub.execute_input": "2021-07-13T15:04:33.4867Z",
          "iopub.status.busy": "2021-07-13T15:04:33.486245Z",
          "iopub.status.idle": "2021-07-13T15:04:33.493202Z",
          "shell.execute_reply": "2021-07-13T15:04:33.491691Z",
          "shell.execute_reply.started": "2021-07-13T15:04:33.486654Z"
        },
        "trusted": true,
        "colab": {
          "base_uri": "https://localhost:8080/"
        },
        "id": "H_rN_WivYajz",
        "outputId": "52714b3c-0439-4ea7-c02e-9586f6e05ebe"
      },
      "outputs": [
        {
          "output_type": "stream",
          "name": "stderr",
          "text": [
            "/usr/local/lib/python3.7/dist-packages/keras/optimizer_v2/gradient_descent.py:102: UserWarning: The `lr` argument is deprecated, use `learning_rate` instead.\n",
            "  super(SGD, self).__init__(name, **kwargs)\n"
          ]
        }
      ],
      "source": [
        "lr = 0.01\n",
        "comms_round = 300\n",
        "loss='categorical_crossentropy'\n",
        "metrics = ['accuracy']\n",
        "optimizer = SGD(lr=lr, \n",
        "                decay=lr / comms_round, \n",
        "                momentum=0.9\n",
        "               )          "
      ]
    },
    {
      "cell_type": "code",
      "execution_count": 21,
      "metadata": {
        "execution": {
          "iopub.execute_input": "2021-07-13T15:04:33.496963Z",
          "iopub.status.busy": "2021-07-13T15:04:33.496054Z",
          "iopub.status.idle": "2021-07-13T15:04:33.54236Z",
          "shell.execute_reply": "2021-07-13T15:04:33.541297Z",
          "shell.execute_reply.started": "2021-07-13T15:04:33.496884Z"
        },
        "trusted": true,
        "id": "iH4Jd-WXYaj0"
      },
      "outputs": [],
      "source": [
        "#initialize global model\n",
        "\n",
        "build_shape = 784 #(28, 28, 3)  # 1024 <- CIFAR-10    # 784 # for MNIST\n",
        "\n",
        "smlp_global = SimpleMLP()\n",
        "global_model = smlp_global.build(build_shape, 10) \n",
        "global_acc_list = []\n",
        "global_loss_list = []"
      ]
    },
    {
      "cell_type": "code",
      "execution_count": 22,
      "metadata": {
        "execution": {
          "iopub.execute_input": "2021-07-13T15:04:33.544696Z",
          "iopub.status.busy": "2021-07-13T15:04:33.544251Z",
          "iopub.status.idle": "2021-07-13T15:34:50.170268Z",
          "shell.execute_reply": "2021-07-13T15:34:50.169127Z",
          "shell.execute_reply.started": "2021-07-13T15:04:33.544662Z"
        },
        "trusted": true,
        "colab": {
          "base_uri": "https://localhost:8080/"
        },
        "id": "wJkOPO3RYaj0",
        "outputId": "bede62e4-76b2-4bc2-f978-a7128015bf2d"
      },
      "outputs": [
        {
          "output_type": "stream",
          "name": "stdout",
          "text": [
            "WARNING:tensorflow:5 out of the last 5 calls to <function Model.make_train_function.<locals>.train_function at 0x7fc8cbc167a0> triggered tf.function retracing. Tracing is expensive and the excessive number of tracings could be due to (1) creating @tf.function repeatedly in a loop, (2) passing tensors with different shapes, (3) passing Python objects instead of tensors. For (1), please define your @tf.function outside of the loop. For (2), @tf.function has experimental_relax_shapes=True option that relaxes argument shapes that can avoid unnecessary retracing. For (3), please refer to https://www.tensorflow.org/guide/function#controlling_retracing and https://www.tensorflow.org/api_docs/python/tf/function for  more details.\n",
            "WARNING:tensorflow:6 out of the last 6 calls to <function Model.make_train_function.<locals>.train_function at 0x7fc8cbb58710> triggered tf.function retracing. Tracing is expensive and the excessive number of tracings could be due to (1) creating @tf.function repeatedly in a loop, (2) passing tensors with different shapes, (3) passing Python objects instead of tensors. For (1), please define your @tf.function outside of the loop. For (2), @tf.function has experimental_relax_shapes=True option that relaxes argument shapes that can avoid unnecessary retracing. For (3), please refer to https://www.tensorflow.org/guide/function#controlling_retracing and https://www.tensorflow.org/api_docs/python/tf/function for  more details.\n",
            "comm_round: 0 | global_acc: 8.333% | global_loss: 2.296790599822998\n",
            "comm_round: 1 | global_acc: 8.333% | global_loss: 2.2961974143981934\n",
            "comm_round: 2 | global_acc: 8.333% | global_loss: 2.295714855194092\n",
            "comm_round: 3 | global_acc: 8.333% | global_loss: 2.294865846633911\n",
            "comm_round: 4 | global_acc: 10.000% | global_loss: 2.294245481491089\n",
            "comm_round: 5 | global_acc: 10.000% | global_loss: 2.293898820877075\n",
            "comm_round: 6 | global_acc: 13.333% | global_loss: 2.2932560443878174\n",
            "comm_round: 7 | global_acc: 13.333% | global_loss: 2.2929108142852783\n",
            "comm_round: 8 | global_acc: 15.000% | global_loss: 2.29223370552063\n",
            "comm_round: 9 | global_acc: 15.000% | global_loss: 2.2917866706848145\n",
            "comm_round: 10 | global_acc: 16.667% | global_loss: 2.2914278507232666\n",
            "comm_round: 11 | global_acc: 16.667% | global_loss: 2.2909529209136963\n",
            "comm_round: 12 | global_acc: 18.333% | global_loss: 2.2903120517730713\n",
            "comm_round: 13 | global_acc: 16.667% | global_loss: 2.289701223373413\n",
            "comm_round: 14 | global_acc: 15.000% | global_loss: 2.289452075958252\n",
            "comm_round: 15 | global_acc: 20.000% | global_loss: 2.2885959148406982\n",
            "comm_round: 16 | global_acc: 20.000% | global_loss: 2.287785291671753\n",
            "comm_round: 17 | global_acc: 21.667% | global_loss: 2.2871506214141846\n",
            "comm_round: 18 | global_acc: 21.667% | global_loss: 2.286285877227783\n",
            "comm_round: 19 | global_acc: 25.000% | global_loss: 2.2855942249298096\n",
            "comm_round: 20 | global_acc: 28.333% | global_loss: 2.2847893238067627\n",
            "comm_round: 21 | global_acc: 28.333% | global_loss: 2.284259080886841\n",
            "comm_round: 22 | global_acc: 28.333% | global_loss: 2.28367018699646\n",
            "comm_round: 23 | global_acc: 28.333% | global_loss: 2.2827956676483154\n",
            "comm_round: 24 | global_acc: 28.333% | global_loss: 2.2820839881896973\n",
            "comm_round: 25 | global_acc: 26.667% | global_loss: 2.28153395652771\n",
            "comm_round: 26 | global_acc: 25.000% | global_loss: 2.2811195850372314\n",
            "comm_round: 27 | global_acc: 25.000% | global_loss: 2.280794382095337\n",
            "comm_round: 28 | global_acc: 26.667% | global_loss: 2.2802212238311768\n",
            "comm_round: 29 | global_acc: 28.333% | global_loss: 2.279330015182495\n",
            "comm_round: 30 | global_acc: 30.000% | global_loss: 2.2788479328155518\n",
            "comm_round: 31 | global_acc: 33.333% | global_loss: 2.277865171432495\n",
            "comm_round: 32 | global_acc: 33.333% | global_loss: 2.2772247791290283\n",
            "comm_round: 33 | global_acc: 35.000% | global_loss: 2.2765045166015625\n",
            "comm_round: 34 | global_acc: 40.000% | global_loss: 2.2757980823516846\n",
            "comm_round: 35 | global_acc: 40.000% | global_loss: 2.2751312255859375\n",
            "comm_round: 36 | global_acc: 36.667% | global_loss: 2.274550199508667\n",
            "comm_round: 37 | global_acc: 40.000% | global_loss: 2.2737138271331787\n",
            "comm_round: 38 | global_acc: 43.333% | global_loss: 2.2727179527282715\n",
            "comm_round: 39 | global_acc: 43.333% | global_loss: 2.2718920707702637\n",
            "comm_round: 40 | global_acc: 41.667% | global_loss: 2.271345615386963\n",
            "comm_round: 41 | global_acc: 41.667% | global_loss: 2.270793914794922\n",
            "comm_round: 42 | global_acc: 40.000% | global_loss: 2.2702741622924805\n",
            "comm_round: 43 | global_acc: 38.333% | global_loss: 2.2696707248687744\n",
            "comm_round: 44 | global_acc: 40.000% | global_loss: 2.2688395977020264\n",
            "comm_round: 45 | global_acc: 45.000% | global_loss: 2.267998456954956\n",
            "comm_round: 46 | global_acc: 46.667% | global_loss: 2.2667620182037354\n",
            "comm_round: 47 | global_acc: 46.667% | global_loss: 2.2662124633789062\n",
            "comm_round: 48 | global_acc: 46.667% | global_loss: 2.264878988265991\n",
            "comm_round: 49 | global_acc: 50.000% | global_loss: 2.2642810344696045\n",
            "comm_round: 50 | global_acc: 46.667% | global_loss: 2.263253927230835\n",
            "comm_round: 51 | global_acc: 48.333% | global_loss: 2.2623469829559326\n",
            "comm_round: 52 | global_acc: 48.333% | global_loss: 2.2615792751312256\n",
            "comm_round: 53 | global_acc: 48.333% | global_loss: 2.2606260776519775\n",
            "comm_round: 54 | global_acc: 48.333% | global_loss: 2.259593963623047\n",
            "comm_round: 55 | global_acc: 46.667% | global_loss: 2.258896827697754\n",
            "comm_round: 56 | global_acc: 46.667% | global_loss: 2.2582223415374756\n",
            "comm_round: 57 | global_acc: 46.667% | global_loss: 2.2573533058166504\n",
            "comm_round: 58 | global_acc: 46.667% | global_loss: 2.2560954093933105\n",
            "comm_round: 59 | global_acc: 50.000% | global_loss: 2.2556369304656982\n",
            "comm_round: 60 | global_acc: 48.333% | global_loss: 2.2546885013580322\n",
            "comm_round: 61 | global_acc: 46.667% | global_loss: 2.2539525032043457\n",
            "comm_round: 62 | global_acc: 48.333% | global_loss: 2.2533276081085205\n",
            "comm_round: 63 | global_acc: 51.667% | global_loss: 2.2524774074554443\n",
            "comm_round: 64 | global_acc: 53.333% | global_loss: 2.251216411590576\n",
            "comm_round: 65 | global_acc: 53.333% | global_loss: 2.2497260570526123\n",
            "comm_round: 66 | global_acc: 50.000% | global_loss: 2.2487714290618896\n",
            "comm_round: 67 | global_acc: 53.333% | global_loss: 2.2475569248199463\n",
            "comm_round: 68 | global_acc: 53.333% | global_loss: 2.2462968826293945\n",
            "comm_round: 69 | global_acc: 53.333% | global_loss: 2.245549201965332\n",
            "comm_round: 70 | global_acc: 53.333% | global_loss: 2.2446916103363037\n",
            "comm_round: 71 | global_acc: 51.667% | global_loss: 2.244307041168213\n",
            "comm_round: 72 | global_acc: 53.333% | global_loss: 2.2432937622070312\n",
            "comm_round: 73 | global_acc: 53.333% | global_loss: 2.241959571838379\n",
            "comm_round: 74 | global_acc: 56.667% | global_loss: 2.2413408756256104\n",
            "comm_round: 75 | global_acc: 56.667% | global_loss: 2.2404067516326904\n",
            "comm_round: 76 | global_acc: 61.667% | global_loss: 2.2395172119140625\n",
            "comm_round: 77 | global_acc: 61.667% | global_loss: 2.2382638454437256\n",
            "comm_round: 78 | global_acc: 56.667% | global_loss: 2.2373006343841553\n",
            "comm_round: 79 | global_acc: 61.667% | global_loss: 2.2358059883117676\n",
            "comm_round: 80 | global_acc: 61.667% | global_loss: 2.2354350090026855\n",
            "comm_round: 81 | global_acc: 61.667% | global_loss: 2.2351505756378174\n",
            "comm_round: 82 | global_acc: 61.667% | global_loss: 2.234229564666748\n",
            "comm_round: 83 | global_acc: 61.667% | global_loss: 2.2334370613098145\n",
            "comm_round: 84 | global_acc: 63.333% | global_loss: 2.2325327396392822\n",
            "comm_round: 85 | global_acc: 61.667% | global_loss: 2.231468915939331\n",
            "comm_round: 86 | global_acc: 63.333% | global_loss: 2.2310097217559814\n",
            "comm_round: 87 | global_acc: 56.667% | global_loss: 2.2295868396759033\n",
            "comm_round: 88 | global_acc: 60.000% | global_loss: 2.2286183834075928\n",
            "comm_round: 89 | global_acc: 58.333% | global_loss: 2.227431535720825\n",
            "comm_round: 90 | global_acc: 56.667% | global_loss: 2.226518392562866\n",
            "comm_round: 91 | global_acc: 58.333% | global_loss: 2.2258033752441406\n",
            "comm_round: 92 | global_acc: 60.000% | global_loss: 2.2242486476898193\n",
            "comm_round: 93 | global_acc: 61.667% | global_loss: 2.223372459411621\n",
            "comm_round: 94 | global_acc: 63.333% | global_loss: 2.223219871520996\n",
            "comm_round: 95 | global_acc: 63.333% | global_loss: 2.222324848175049\n",
            "comm_round: 96 | global_acc: 63.333% | global_loss: 2.220752239227295\n",
            "comm_round: 97 | global_acc: 65.000% | global_loss: 2.219599485397339\n",
            "comm_round: 98 | global_acc: 63.333% | global_loss: 2.2184479236602783\n",
            "comm_round: 99 | global_acc: 63.333% | global_loss: 2.2168421745300293\n",
            "comm_round: 100 | global_acc: 63.333% | global_loss: 2.2157843112945557\n",
            "comm_round: 101 | global_acc: 65.000% | global_loss: 2.2149434089660645\n",
            "comm_round: 102 | global_acc: 65.000% | global_loss: 2.2133243083953857\n",
            "comm_round: 103 | global_acc: 65.000% | global_loss: 2.2120275497436523\n",
            "comm_round: 104 | global_acc: 65.000% | global_loss: 2.2104756832122803\n",
            "comm_round: 105 | global_acc: 65.000% | global_loss: 2.209707498550415\n",
            "comm_round: 106 | global_acc: 66.667% | global_loss: 2.2094271183013916\n",
            "comm_round: 107 | global_acc: 66.667% | global_loss: 2.207406759262085\n",
            "comm_round: 108 | global_acc: 65.000% | global_loss: 2.2056567668914795\n",
            "comm_round: 109 | global_acc: 66.667% | global_loss: 2.20448899269104\n",
            "comm_round: 110 | global_acc: 65.000% | global_loss: 2.2030022144317627\n",
            "comm_round: 111 | global_acc: 65.000% | global_loss: 2.2016868591308594\n",
            "comm_round: 112 | global_acc: 65.000% | global_loss: 2.2010252475738525\n",
            "comm_round: 113 | global_acc: 65.000% | global_loss: 2.19972825050354\n",
            "comm_round: 114 | global_acc: 66.667% | global_loss: 2.1982274055480957\n",
            "comm_round: 115 | global_acc: 66.667% | global_loss: 2.1959152221679688\n",
            "comm_round: 116 | global_acc: 66.667% | global_loss: 2.1943602561950684\n",
            "comm_round: 117 | global_acc: 66.667% | global_loss: 2.1919736862182617\n",
            "comm_round: 118 | global_acc: 66.667% | global_loss: 2.190308094024658\n",
            "comm_round: 119 | global_acc: 68.333% | global_loss: 2.189286708831787\n",
            "comm_round: 120 | global_acc: 70.000% | global_loss: 2.1875967979431152\n",
            "comm_round: 121 | global_acc: 71.667% | global_loss: 2.1868300437927246\n",
            "comm_round: 122 | global_acc: 70.000% | global_loss: 2.184706211090088\n",
            "comm_round: 123 | global_acc: 70.000% | global_loss: 2.1829421520233154\n",
            "comm_round: 124 | global_acc: 70.000% | global_loss: 2.182962656021118\n",
            "comm_round: 125 | global_acc: 70.000% | global_loss: 2.181770086288452\n",
            "comm_round: 126 | global_acc: 70.000% | global_loss: 2.1804656982421875\n",
            "comm_round: 127 | global_acc: 70.000% | global_loss: 2.178253650665283\n",
            "comm_round: 128 | global_acc: 68.333% | global_loss: 2.176513671875\n",
            "comm_round: 129 | global_acc: 68.333% | global_loss: 2.174168825149536\n",
            "comm_round: 130 | global_acc: 68.333% | global_loss: 2.174394130706787\n",
            "comm_round: 131 | global_acc: 68.333% | global_loss: 2.1729483604431152\n",
            "comm_round: 132 | global_acc: 68.333% | global_loss: 2.1714844703674316\n",
            "comm_round: 133 | global_acc: 70.000% | global_loss: 2.1699228286743164\n",
            "comm_round: 134 | global_acc: 68.333% | global_loss: 2.167896270751953\n",
            "comm_round: 135 | global_acc: 68.333% | global_loss: 2.1676013469696045\n",
            "comm_round: 136 | global_acc: 68.333% | global_loss: 2.1663777828216553\n",
            "comm_round: 137 | global_acc: 68.333% | global_loss: 2.164569139480591\n",
            "comm_round: 138 | global_acc: 68.333% | global_loss: 2.162412405014038\n",
            "comm_round: 139 | global_acc: 68.333% | global_loss: 2.1598260402679443\n",
            "comm_round: 140 | global_acc: 70.000% | global_loss: 2.1590776443481445\n",
            "comm_round: 141 | global_acc: 70.000% | global_loss: 2.1587607860565186\n",
            "comm_round: 142 | global_acc: 70.000% | global_loss: 2.157097816467285\n",
            "comm_round: 143 | global_acc: 68.333% | global_loss: 2.15566349029541\n",
            "comm_round: 144 | global_acc: 68.333% | global_loss: 2.153538227081299\n",
            "comm_round: 145 | global_acc: 68.333% | global_loss: 2.152130365371704\n",
            "comm_round: 146 | global_acc: 68.333% | global_loss: 2.1514642238616943\n",
            "comm_round: 147 | global_acc: 70.000% | global_loss: 2.1493635177612305\n",
            "comm_round: 148 | global_acc: 70.000% | global_loss: 2.148491859436035\n",
            "comm_round: 149 | global_acc: 71.667% | global_loss: 2.1462013721466064\n",
            "comm_round: 150 | global_acc: 73.333% | global_loss: 2.1448259353637695\n",
            "comm_round: 151 | global_acc: 71.667% | global_loss: 2.144235372543335\n",
            "comm_round: 152 | global_acc: 73.333% | global_loss: 2.1425185203552246\n",
            "comm_round: 153 | global_acc: 70.000% | global_loss: 2.140406370162964\n",
            "comm_round: 154 | global_acc: 71.667% | global_loss: 2.141005039215088\n",
            "comm_round: 155 | global_acc: 73.333% | global_loss: 2.1396706104278564\n",
            "comm_round: 156 | global_acc: 71.667% | global_loss: 2.13834810256958\n",
            "comm_round: 157 | global_acc: 71.667% | global_loss: 2.1370458602905273\n",
            "comm_round: 158 | global_acc: 71.667% | global_loss: 2.1355502605438232\n",
            "comm_round: 159 | global_acc: 71.667% | global_loss: 2.134333610534668\n",
            "comm_round: 160 | global_acc: 71.667% | global_loss: 2.132669687271118\n",
            "comm_round: 161 | global_acc: 71.667% | global_loss: 2.131164789199829\n",
            "comm_round: 162 | global_acc: 71.667% | global_loss: 2.1292941570281982\n",
            "comm_round: 163 | global_acc: 71.667% | global_loss: 2.1289515495300293\n",
            "comm_round: 164 | global_acc: 71.667% | global_loss: 2.125213146209717\n",
            "comm_round: 165 | global_acc: 73.333% | global_loss: 2.1229493618011475\n",
            "comm_round: 166 | global_acc: 73.333% | global_loss: 2.1199426651000977\n",
            "comm_round: 167 | global_acc: 73.333% | global_loss: 2.1210546493530273\n",
            "comm_round: 168 | global_acc: 73.333% | global_loss: 2.1185548305511475\n",
            "comm_round: 169 | global_acc: 73.333% | global_loss: 2.1170973777770996\n",
            "comm_round: 170 | global_acc: 73.333% | global_loss: 2.1155660152435303\n",
            "comm_round: 171 | global_acc: 75.000% | global_loss: 2.113485813140869\n",
            "comm_round: 172 | global_acc: 75.000% | global_loss: 2.1115481853485107\n",
            "comm_round: 173 | global_acc: 73.333% | global_loss: 2.109555244445801\n",
            "comm_round: 174 | global_acc: 75.000% | global_loss: 2.107952833175659\n",
            "comm_round: 175 | global_acc: 73.333% | global_loss: 2.107649803161621\n",
            "comm_round: 176 | global_acc: 73.333% | global_loss: 2.107283592224121\n",
            "comm_round: 177 | global_acc: 73.333% | global_loss: 2.1063058376312256\n",
            "comm_round: 178 | global_acc: 75.000% | global_loss: 2.1053225994110107\n",
            "comm_round: 179 | global_acc: 73.333% | global_loss: 2.1043474674224854\n",
            "comm_round: 180 | global_acc: 75.000% | global_loss: 2.1017067432403564\n",
            "comm_round: 181 | global_acc: 75.000% | global_loss: 2.0992815494537354\n",
            "comm_round: 182 | global_acc: 76.667% | global_loss: 2.095262289047241\n",
            "comm_round: 183 | global_acc: 76.667% | global_loss: 2.0958807468414307\n",
            "comm_round: 184 | global_acc: 75.000% | global_loss: 2.094700813293457\n",
            "comm_round: 185 | global_acc: 75.000% | global_loss: 2.0931966304779053\n",
            "comm_round: 186 | global_acc: 75.000% | global_loss: 2.0893709659576416\n",
            "comm_round: 187 | global_acc: 73.333% | global_loss: 2.0877904891967773\n",
            "comm_round: 188 | global_acc: 73.333% | global_loss: 2.086548089981079\n",
            "comm_round: 189 | global_acc: 75.000% | global_loss: 2.0859498977661133\n",
            "comm_round: 190 | global_acc: 75.000% | global_loss: 2.0834741592407227\n",
            "comm_round: 191 | global_acc: 75.000% | global_loss: 2.0819263458251953\n",
            "comm_round: 192 | global_acc: 75.000% | global_loss: 2.080775737762451\n",
            "comm_round: 193 | global_acc: 75.000% | global_loss: 2.0786542892456055\n",
            "comm_round: 194 | global_acc: 75.000% | global_loss: 2.077221393585205\n",
            "comm_round: 195 | global_acc: 75.000% | global_loss: 2.0747451782226562\n",
            "comm_round: 196 | global_acc: 76.667% | global_loss: 2.072444200515747\n",
            "comm_round: 197 | global_acc: 76.667% | global_loss: 2.070312023162842\n",
            "comm_round: 198 | global_acc: 76.667% | global_loss: 2.0688979625701904\n",
            "comm_round: 199 | global_acc: 76.667% | global_loss: 2.0664498805999756\n",
            "comm_round: 200 | global_acc: 76.667% | global_loss: 2.0647799968719482\n",
            "comm_round: 201 | global_acc: 76.667% | global_loss: 2.062427282333374\n",
            "comm_round: 202 | global_acc: 76.667% | global_loss: 2.0600171089172363\n",
            "comm_round: 203 | global_acc: 76.667% | global_loss: 2.0581634044647217\n",
            "comm_round: 204 | global_acc: 76.667% | global_loss: 2.0566763877868652\n",
            "comm_round: 205 | global_acc: 76.667% | global_loss: 2.0554094314575195\n",
            "comm_round: 206 | global_acc: 76.667% | global_loss: 2.0552875995635986\n",
            "comm_round: 207 | global_acc: 76.667% | global_loss: 2.053335666656494\n",
            "comm_round: 208 | global_acc: 76.667% | global_loss: 2.0520851612091064\n",
            "comm_round: 209 | global_acc: 75.000% | global_loss: 2.050036668777466\n",
            "comm_round: 210 | global_acc: 76.667% | global_loss: 2.0501227378845215\n",
            "comm_round: 211 | global_acc: 76.667% | global_loss: 2.047075033187866\n",
            "comm_round: 212 | global_acc: 75.000% | global_loss: 2.0456995964050293\n",
            "comm_round: 213 | global_acc: 75.000% | global_loss: 2.0445125102996826\n",
            "comm_round: 214 | global_acc: 75.000% | global_loss: 2.043562173843384\n",
            "comm_round: 215 | global_acc: 75.000% | global_loss: 2.041566848754883\n",
            "comm_round: 216 | global_acc: 75.000% | global_loss: 2.0392630100250244\n",
            "comm_round: 217 | global_acc: 75.000% | global_loss: 2.0397183895111084\n",
            "comm_round: 218 | global_acc: 75.000% | global_loss: 2.0375399589538574\n",
            "comm_round: 219 | global_acc: 75.000% | global_loss: 2.034327745437622\n",
            "comm_round: 220 | global_acc: 75.000% | global_loss: 2.032649040222168\n",
            "comm_round: 221 | global_acc: 75.000% | global_loss: 2.0330231189727783\n",
            "comm_round: 222 | global_acc: 76.667% | global_loss: 2.0295679569244385\n",
            "comm_round: 223 | global_acc: 76.667% | global_loss: 2.030644178390503\n",
            "comm_round: 224 | global_acc: 76.667% | global_loss: 2.0287435054779053\n",
            "comm_round: 225 | global_acc: 76.667% | global_loss: 2.0284318923950195\n",
            "comm_round: 226 | global_acc: 75.000% | global_loss: 2.0289289951324463\n",
            "comm_round: 227 | global_acc: 76.667% | global_loss: 2.0272340774536133\n",
            "comm_round: 228 | global_acc: 76.667% | global_loss: 2.026827573776245\n",
            "comm_round: 229 | global_acc: 76.667% | global_loss: 2.024136543273926\n",
            "comm_round: 230 | global_acc: 76.667% | global_loss: 2.020486354827881\n",
            "comm_round: 231 | global_acc: 76.667% | global_loss: 2.018193244934082\n",
            "comm_round: 232 | global_acc: 78.333% | global_loss: 2.0157899856567383\n",
            "comm_round: 233 | global_acc: 78.333% | global_loss: 2.014569044113159\n",
            "comm_round: 234 | global_acc: 78.333% | global_loss: 2.0135488510131836\n",
            "comm_round: 235 | global_acc: 76.667% | global_loss: 2.0111489295959473\n",
            "comm_round: 236 | global_acc: 76.667% | global_loss: 2.0089070796966553\n",
            "comm_round: 237 | global_acc: 76.667% | global_loss: 2.0060126781463623\n",
            "comm_round: 238 | global_acc: 78.333% | global_loss: 2.006870985031128\n",
            "comm_round: 239 | global_acc: 78.333% | global_loss: 2.0060346126556396\n",
            "comm_round: 240 | global_acc: 78.333% | global_loss: 2.004063844680786\n",
            "comm_round: 241 | global_acc: 78.333% | global_loss: 2.003161907196045\n",
            "comm_round: 242 | global_acc: 76.667% | global_loss: 2.000950336456299\n",
            "comm_round: 243 | global_acc: 80.000% | global_loss: 1.999902606010437\n",
            "comm_round: 244 | global_acc: 76.667% | global_loss: 1.996260166168213\n",
            "comm_round: 245 | global_acc: 76.667% | global_loss: 1.9953092336654663\n",
            "comm_round: 246 | global_acc: 75.000% | global_loss: 1.9950774908065796\n",
            "comm_round: 247 | global_acc: 75.000% | global_loss: 1.9932607412338257\n",
            "comm_round: 248 | global_acc: 76.667% | global_loss: 1.9950621128082275\n",
            "comm_round: 249 | global_acc: 75.000% | global_loss: 1.9929686784744263\n",
            "comm_round: 250 | global_acc: 76.667% | global_loss: 1.993439793586731\n",
            "comm_round: 251 | global_acc: 76.667% | global_loss: 1.9915207624435425\n",
            "comm_round: 252 | global_acc: 76.667% | global_loss: 1.992998719215393\n",
            "comm_round: 253 | global_acc: 75.000% | global_loss: 1.9912899732589722\n",
            "comm_round: 254 | global_acc: 76.667% | global_loss: 1.9916400909423828\n",
            "comm_round: 255 | global_acc: 76.667% | global_loss: 1.9901010990142822\n",
            "comm_round: 256 | global_acc: 76.667% | global_loss: 1.989956259727478\n",
            "comm_round: 257 | global_acc: 76.667% | global_loss: 1.9892877340316772\n",
            "comm_round: 258 | global_acc: 76.667% | global_loss: 1.9886839389801025\n",
            "comm_round: 259 | global_acc: 76.667% | global_loss: 1.9856849908828735\n",
            "comm_round: 260 | global_acc: 75.000% | global_loss: 1.981594204902649\n",
            "comm_round: 261 | global_acc: 75.000% | global_loss: 1.9787249565124512\n",
            "comm_round: 262 | global_acc: 76.667% | global_loss: 1.9789100885391235\n",
            "comm_round: 263 | global_acc: 75.000% | global_loss: 1.9787180423736572\n",
            "comm_round: 264 | global_acc: 75.000% | global_loss: 1.9781429767608643\n",
            "comm_round: 265 | global_acc: 76.667% | global_loss: 1.9748092889785767\n",
            "comm_round: 266 | global_acc: 76.667% | global_loss: 1.975320816040039\n",
            "comm_round: 267 | global_acc: 76.667% | global_loss: 1.9728484153747559\n",
            "comm_round: 268 | global_acc: 76.667% | global_loss: 1.9741095304489136\n",
            "comm_round: 269 | global_acc: 78.333% | global_loss: 1.9710983037948608\n",
            "comm_round: 270 | global_acc: 75.000% | global_loss: 1.9701684713363647\n",
            "comm_round: 271 | global_acc: 76.667% | global_loss: 1.9704548120498657\n",
            "comm_round: 272 | global_acc: 76.667% | global_loss: 1.9689710140228271\n",
            "comm_round: 273 | global_acc: 76.667% | global_loss: 1.9694459438323975\n",
            "comm_round: 274 | global_acc: 76.667% | global_loss: 1.9657399654388428\n",
            "comm_round: 275 | global_acc: 73.333% | global_loss: 1.9656630754470825\n",
            "comm_round: 276 | global_acc: 75.000% | global_loss: 1.9633231163024902\n",
            "comm_round: 277 | global_acc: 73.333% | global_loss: 1.9621272087097168\n",
            "comm_round: 278 | global_acc: 75.000% | global_loss: 1.9618861675262451\n",
            "comm_round: 279 | global_acc: 73.333% | global_loss: 1.9584648609161377\n",
            "comm_round: 280 | global_acc: 73.333% | global_loss: 1.9580894708633423\n",
            "comm_round: 281 | global_acc: 73.333% | global_loss: 1.957317590713501\n",
            "comm_round: 282 | global_acc: 73.333% | global_loss: 1.9577271938323975\n",
            "comm_round: 283 | global_acc: 73.333% | global_loss: 1.9570350646972656\n",
            "comm_round: 284 | global_acc: 73.333% | global_loss: 1.9549227952957153\n",
            "comm_round: 285 | global_acc: 73.333% | global_loss: 1.953072190284729\n",
            "comm_round: 286 | global_acc: 73.333% | global_loss: 1.951159954071045\n",
            "comm_round: 287 | global_acc: 73.333% | global_loss: 1.947619080543518\n",
            "comm_round: 288 | global_acc: 73.333% | global_loss: 1.9456642866134644\n",
            "comm_round: 289 | global_acc: 73.333% | global_loss: 1.9462932348251343\n",
            "comm_round: 290 | global_acc: 73.333% | global_loss: 1.9447239637374878\n",
            "comm_round: 291 | global_acc: 73.333% | global_loss: 1.9429298639297485\n",
            "comm_round: 292 | global_acc: 75.000% | global_loss: 1.941952109336853\n",
            "comm_round: 293 | global_acc: 75.000% | global_loss: 1.9410282373428345\n",
            "comm_round: 294 | global_acc: 75.000% | global_loss: 1.9415862560272217\n",
            "comm_round: 295 | global_acc: 75.000% | global_loss: 1.9435780048370361\n",
            "comm_round: 296 | global_acc: 75.000% | global_loss: 1.9443695545196533\n",
            "comm_round: 297 | global_acc: 76.667% | global_loss: 1.9414345026016235\n",
            "comm_round: 298 | global_acc: 76.667% | global_loss: 1.9393985271453857\n",
            "comm_round: 299 | global_acc: 76.667% | global_loss: 1.9388099908828735\n"
          ]
        }
      ],
      "source": [
        "#commence global training loop\n",
        "for comm_round in range(comms_round):\n",
        "            \n",
        "    # get the global model's weights - will serve as the initial weights for all local models\n",
        "    global_weights = global_model.get_weights()\n",
        "    \n",
        "    #initial list to collect local model weights after scalling\n",
        "    scaled_local_weight_list = list()\n",
        "\n",
        "    #randomize client data - using keys\n",
        "    all_client_names = list(clients_batched.keys())\n",
        "           \n",
        "    client_names = random.sample(all_client_names, k=10)\n",
        "    # print(client_names, len(client_names))\n",
        "    random.shuffle(client_names)\n",
        "    \n",
        "#     if debug: \n",
        "#         # print('all_client_names', all_client_names)\n",
        "#         print('client_names', client_names, len(client_names))\n",
        "                \n",
        "    \n",
        "    #loop through each client and create new local model\n",
        "    for client in client_names:\n",
        "        smlp_local = SimpleMLP()\n",
        "        local_model = smlp_local.build(build_shape, 10)\n",
        "        local_model.compile(loss=loss, \n",
        "                      optimizer=optimizer, \n",
        "                      metrics=metrics)\n",
        "        \n",
        "        #set local model weight to the weight of the global model\n",
        "        local_model.set_weights(global_weights)\n",
        "        \n",
        "        #fit local model with client's data\n",
        "        local_model.fit(clients_batched[client], epochs=1, verbose=0)\n",
        "        \n",
        "        #scale the model weights and add to list\n",
        "        scaling_factor = 0.1 # weight_scalling_factor(clients_batched, client)\n",
        "        # print('scaling_factor', scaling_factor)\n",
        "        scaled_weights = scale_model_weights(local_model.get_weights(), scaling_factor)\n",
        "        scaled_local_weight_list.append(scaled_weights)\n",
        "        \n",
        "        #clear session to free memory after each communication round\n",
        "        K.clear_session()\n",
        "        \n",
        "    #to get the average over all the local model, we simply take the sum of the scaled weights\n",
        "    average_weights = sum_scaled_weights(scaled_local_weight_list)\n",
        "    \n",
        "    #update global model \n",
        "    global_model.set_weights(average_weights)\n",
        "\n",
        "    #test global model and print out metrics after each communications round\n",
        "    for(X_test, Y_test) in test_batched:\n",
        "        global_acc, global_loss = test_model(X_test, Y_test, global_model, comm_round)\n",
        "        global_acc_list.append(global_acc)\n",
        "        global_loss_list.append(global_loss)"
      ]
    },
    {
      "cell_type": "code",
      "execution_count": 23,
      "metadata": {
        "execution": {
          "iopub.execute_input": "2021-07-13T15:35:47.454952Z",
          "iopub.status.busy": "2021-07-13T15:35:47.454477Z",
          "iopub.status.idle": "2021-07-13T15:35:47.799876Z",
          "shell.execute_reply": "2021-07-13T15:35:47.798723Z",
          "shell.execute_reply.started": "2021-07-13T15:35:47.45491Z"
        },
        "trusted": true,
        "colab": {
          "base_uri": "https://localhost:8080/"
        },
        "id": "yZN-NQ9xYaj1",
        "outputId": "8ea3dda1-6251-45dd-bad4-e23ce22f629b"
      },
      "outputs": [
        {
          "output_type": "stream",
          "name": "stdout",
          "text": [
            "IID | total comm rounds 300\n"
          ]
        },
        {
          "output_type": "display_data",
          "data": {
            "image/png": "[encoded data removed]",
            "text/plain": [
              "<Figure size 1152x288 with 2 Axes>"
            ]
          },
          "metadata": {
            "needs_background": "light"
          }
        }
      ],
      "source": [
        "# IID \n",
        "import matplotlib.pyplot as plt\n",
        "plt.figure(figsize=(16,4))\n",
        "plt.subplot(121)\n",
        "plt.plot(list(range(0,len(global_loss_list))), global_loss_list)\n",
        "plt.subplot(122)\n",
        "plt.plot(list(range(0,len(global_acc_list))), global_acc_list)\n",
        "print('IID | total comm rounds', len(global_acc_list))"
      ]
    },
    {
      "cell_type": "code",
      "execution_count": 25,
      "metadata": {
        "execution": {
          "iopub.execute_input": "2021-07-13T15:38:12.630178Z",
          "iopub.status.busy": "2021-07-13T15:38:12.629719Z",
          "iopub.status.idle": "2021-07-13T15:38:12.835156Z",
          "shell.execute_reply": "2021-07-13T15:38:12.834001Z",
          "shell.execute_reply.started": "2021-07-13T15:38:12.630136Z"
        },
        "trusted": true,
        "id": "UF10q5RjYaj2"
      },
      "outputs": [],
      "source": [
        "iid_df = pd.DataFrame(list(zip(global_acc_list, global_loss_list)), columns =['global_acc_list', 'global_loss_list'])\n",
        "iid_df.to_csv('MNIST_IID.csv',index=False)"
      ]
    },
    {
      "cell_type": "markdown",
      "metadata": {
        "id": "EDxBPCz0Yaj3"
      },
      "source": [
        "### Non-IID"
      ]
    },
    {
      "cell_type": "code",
      "execution_count": 26,
      "metadata": {
        "execution": {
          "iopub.execute_input": "2021-07-13T15:53:04.152306Z",
          "iopub.status.busy": "2021-07-13T15:53:04.151883Z",
          "iopub.status.idle": "2021-07-13T15:53:04.162248Z",
          "shell.execute_reply": "2021-07-13T15:53:04.16105Z",
          "shell.execute_reply.started": "2021-07-13T15:53:04.152274Z"
        },
        "trusted": true,
        "id": "JfvnvItPYaj4"
      },
      "outputs": [],
      "source": [
        "def create_clients(image_list, label_list, num_clients=100, initial='clients'):\n",
        "    ''' return: a dictionary with keys clients' names and value as \n",
        "                data shards - tuple of images and label lists.\n",
        "        args: \n",
        "            image_list: a list of numpy arrays of training images\n",
        "            label_list:a list of binarized labels for each image\n",
        "            num_client: number of fedrated members (clients)\n",
        "            initials: the clients'name prefix, e.g, clients_1 \n",
        "            \n",
        "    '''\n",
        "\n",
        "    #create a list of client names\n",
        "    client_names = ['{}_{}'.format(initial, i+1) for i in range(num_clients)]\n",
        "\n",
        "    #randomize the data\n",
        "    # data = list(zip(image_list, label_list))\n",
        "    # random.shuffle(data)  # <- IID\n",
        "    \n",
        "    # sort data for non-iid\n",
        "    max_y = np.argmax(label_list, axis=-1)\n",
        "    sorted_zip = sorted(zip(max_y, label_list, image_list), key=lambda x: x[0])\n",
        "    data = [(x,y) for _,y,x in sorted_zip]\n",
        "\n",
        "    #shard data and place at each client\n",
        "    size = len(data)//num_clients\n",
        "    shards = [data[i:i + size] for i in range(0, size*num_clients, size)]\n",
        "\n",
        "    #number of clients must equal number of shards\n",
        "    assert(len(shards) == len(client_names))\n",
        "\n",
        "    return {client_names[i] : shards[i] for i in range(len(client_names))} "
      ]
    },
    {
      "cell_type": "code",
      "execution_count": 26,
      "metadata": {
        "id": "bVzMNYZnYaj5"
      },
      "outputs": [],
      "source": [
        ""
      ]
    },
    {
      "cell_type": "code",
      "execution_count": 27,
      "metadata": {
        "execution": {
          "iopub.execute_input": "2021-07-13T15:53:05.102515Z",
          "iopub.status.busy": "2021-07-13T15:53:05.102106Z",
          "iopub.status.idle": "2021-07-13T15:53:05.1098Z",
          "shell.execute_reply": "2021-07-13T15:53:05.10852Z",
          "shell.execute_reply.started": "2021-07-13T15:53:05.102485Z"
        },
        "trusted": true,
        "colab": {
          "base_uri": "https://localhost:8080/"
        },
        "id": "bhSwtmMqYaj6",
        "outputId": "40e1f791-d114-451b-d3ea-39cfe82cd5dd"
      },
      "outputs": [
        {
          "output_type": "execute_result",
          "data": {
            "text/plain": [
              "(540, 60, 540, 60)"
            ]
          },
          "metadata": {},
          "execution_count": 27
        }
      ],
      "source": [
        "len(X_train), len(X_test), len(y_train), len(y_test)"
      ]
    },
    {
      "cell_type": "code",
      "execution_count": 28,
      "metadata": {
        "execution": {
          "iopub.execute_input": "2021-07-13T15:53:07.549605Z",
          "iopub.status.busy": "2021-07-13T15:53:07.549218Z",
          "iopub.status.idle": "2021-07-13T15:53:07.692112Z",
          "shell.execute_reply": "2021-07-13T15:53:07.690119Z",
          "shell.execute_reply.started": "2021-07-13T15:53:07.549573Z"
        },
        "trusted": true,
        "id": "2WRvvt1uYaj6"
      },
      "outputs": [],
      "source": [
        "#create clients\n",
        "clients = create_clients(X_train, y_train, num_clients=100, initial='client')"
      ]
    },
    {
      "cell_type": "code",
      "execution_count": 29,
      "metadata": {
        "execution": {
          "iopub.execute_input": "2021-07-13T16:00:35.667584Z",
          "iopub.status.busy": "2021-07-13T16:00:35.6672Z",
          "iopub.status.idle": "2021-07-13T16:00:44.510649Z",
          "shell.execute_reply": "2021-07-13T16:00:44.509505Z",
          "shell.execute_reply.started": "2021-07-13T16:00:35.667552Z"
        },
        "trusted": true,
        "id": "lS4Hr2cSYaj7"
      },
      "outputs": [],
      "source": [
        "#process and batch the training data for each client\n",
        "clients_batched = dict()\n",
        "for (client_name, data) in clients.items():\n",
        "    clients_batched[client_name] = batch_data(data)\n",
        "    \n",
        "#process and batch the test set  \n",
        "test_batched = tf.data.Dataset.from_tensor_slices((X_test, y_test)).batch(len(y_test))"
      ]
    },
    {
      "cell_type": "code",
      "execution_count": 30,
      "metadata": {
        "execution": {
          "iopub.execute_input": "2021-07-13T16:00:44.513079Z",
          "iopub.status.busy": "2021-07-13T16:00:44.512562Z",
          "iopub.status.idle": "2021-07-13T16:00:44.520911Z",
          "shell.execute_reply": "2021-07-13T16:00:44.519294Z",
          "shell.execute_reply.started": "2021-07-13T16:00:44.512981Z"
        },
        "trusted": true,
        "colab": {
          "base_uri": "https://localhost:8080/"
        },
        "id": "HuL63pOIYaj7",
        "outputId": "7fbaffe8-e2c5-4e94-c740-21712b5595d9"
      },
      "outputs": [
        {
          "output_type": "stream",
          "name": "stderr",
          "text": [
            "/usr/local/lib/python3.7/dist-packages/keras/optimizer_v2/gradient_descent.py:102: UserWarning: The `lr` argument is deprecated, use `learning_rate` instead.\n",
            "  super(SGD, self).__init__(name, **kwargs)\n"
          ]
        }
      ],
      "source": [
        "lr = 0.01 \n",
        "comms_round = 50\n",
        "loss='categorical_crossentropy'\n",
        "metrics = ['accuracy']\n",
        "optimizer = SGD(lr=lr, \n",
        "                decay=lr / comms_round, \n",
        "                momentum=0.9\n",
        "               )          "
      ]
    },
    {
      "cell_type": "code",
      "execution_count": 31,
      "metadata": {
        "execution": {
          "iopub.execute_input": "2021-07-13T16:00:44.524063Z",
          "iopub.status.busy": "2021-07-13T16:00:44.523534Z",
          "iopub.status.idle": "2021-07-13T16:00:44.571138Z",
          "shell.execute_reply": "2021-07-13T16:00:44.570049Z",
          "shell.execute_reply.started": "2021-07-13T16:00:44.523993Z"
        },
        "trusted": true,
        "id": "dyz5qkwUYaj7"
      },
      "outputs": [],
      "source": [
        "#initialize global model\n",
        "\n",
        "build_shape = 784 #(32, 32, 3)  # 1024 <- CIFAR-10    # 784 # for MNIST\n",
        "\n",
        "smlp_global = SimpleMLP()\n",
        "global_model = smlp_global.build(build_shape, 10) \n",
        "global_acc_list = []\n",
        "global_loss_list = []"
      ]
    },
    {
      "cell_type": "code",
      "execution_count": 32,
      "metadata": {
        "execution": {
          "iopub.execute_input": "2021-07-13T16:00:44.573625Z",
          "iopub.status.busy": "2021-07-13T16:00:44.573131Z",
          "iopub.status.idle": "2021-07-13T16:30:28.941131Z",
          "shell.execute_reply": "2021-07-13T16:30:28.939902Z",
          "shell.execute_reply.started": "2021-07-13T16:00:44.573582Z"
        },
        "trusted": true,
        "colab": {
          "base_uri": "https://localhost:8080/"
        },
        "id": "T5MNwlaCYaj8",
        "outputId": "7da3f870-2bdb-4e56-aba4-5ff457bd1cfb"
      },
      "outputs": [
        {
          "output_type": "stream",
          "name": "stdout",
          "text": [
            "comm_round: 0 | global_acc: 10.000% | global_loss: 2.3013174533843994\n",
            "comm_round: 1 | global_acc: 11.667% | global_loss: 2.30014967918396\n",
            "comm_round: 2 | global_acc: 10.000% | global_loss: 2.3001549243927\n",
            "comm_round: 3 | global_acc: 10.000% | global_loss: 2.300360679626465\n",
            "comm_round: 4 | global_acc: 13.333% | global_loss: 2.3002207279205322\n",
            "comm_round: 5 | global_acc: 15.000% | global_loss: 2.299344301223755\n",
            "comm_round: 6 | global_acc: 18.333% | global_loss: 2.298267364501953\n",
            "comm_round: 7 | global_acc: 20.000% | global_loss: 2.297548532485962\n",
            "comm_round: 8 | global_acc: 18.333% | global_loss: 2.2966456413269043\n",
            "comm_round: 9 | global_acc: 16.667% | global_loss: 2.2957711219787598\n",
            "comm_round: 10 | global_acc: 20.000% | global_loss: 2.2952730655670166\n",
            "comm_round: 11 | global_acc: 20.000% | global_loss: 2.2944235801696777\n",
            "comm_round: 12 | global_acc: 21.667% | global_loss: 2.2942912578582764\n",
            "comm_round: 13 | global_acc: 23.333% | global_loss: 2.294105052947998\n",
            "comm_round: 14 | global_acc: 23.333% | global_loss: 2.293321132659912\n",
            "comm_round: 15 | global_acc: 23.333% | global_loss: 2.293173313140869\n",
            "comm_round: 16 | global_acc: 25.000% | global_loss: 2.293023109436035\n",
            "comm_round: 17 | global_acc: 23.333% | global_loss: 2.292076826095581\n",
            "comm_round: 18 | global_acc: 26.667% | global_loss: 2.2917261123657227\n",
            "comm_round: 19 | global_acc: 25.000% | global_loss: 2.2917206287384033\n",
            "comm_round: 20 | global_acc: 23.333% | global_loss: 2.290621042251587\n",
            "comm_round: 21 | global_acc: 26.667% | global_loss: 2.2903151512145996\n",
            "comm_round: 22 | global_acc: 26.667% | global_loss: 2.2899904251098633\n",
            "comm_round: 23 | global_acc: 26.667% | global_loss: 2.288935661315918\n",
            "comm_round: 24 | global_acc: 26.667% | global_loss: 2.2878849506378174\n",
            "comm_round: 25 | global_acc: 30.000% | global_loss: 2.287278890609741\n",
            "comm_round: 26 | global_acc: 28.333% | global_loss: 2.286726951599121\n",
            "comm_round: 27 | global_acc: 26.667% | global_loss: 2.2863199710845947\n",
            "comm_round: 28 | global_acc: 26.667% | global_loss: 2.285872220993042\n",
            "comm_round: 29 | global_acc: 26.667% | global_loss: 2.2858188152313232\n",
            "comm_round: 30 | global_acc: 26.667% | global_loss: 2.2854952812194824\n",
            "comm_round: 31 | global_acc: 25.000% | global_loss: 2.2838401794433594\n",
            "comm_round: 32 | global_acc: 23.333% | global_loss: 2.283087968826294\n",
            "comm_round: 33 | global_acc: 21.667% | global_loss: 2.2821667194366455\n",
            "comm_round: 34 | global_acc: 26.667% | global_loss: 2.281486749649048\n",
            "comm_round: 35 | global_acc: 23.333% | global_loss: 2.2797622680664062\n",
            "comm_round: 36 | global_acc: 23.333% | global_loss: 2.278656005859375\n",
            "comm_round: 37 | global_acc: 21.667% | global_loss: 2.2780821323394775\n",
            "comm_round: 38 | global_acc: 20.000% | global_loss: 2.2777607440948486\n",
            "comm_round: 39 | global_acc: 25.000% | global_loss: 2.2770004272460938\n",
            "comm_round: 40 | global_acc: 26.667% | global_loss: 2.2757251262664795\n",
            "comm_round: 41 | global_acc: 26.667% | global_loss: 2.274887800216675\n",
            "comm_round: 42 | global_acc: 26.667% | global_loss: 2.2749533653259277\n",
            "comm_round: 43 | global_acc: 26.667% | global_loss: 2.27418851852417\n",
            "comm_round: 44 | global_acc: 26.667% | global_loss: 2.274519681930542\n",
            "comm_round: 45 | global_acc: 26.667% | global_loss: 2.2729532718658447\n",
            "comm_round: 46 | global_acc: 26.667% | global_loss: 2.271778106689453\n",
            "comm_round: 47 | global_acc: 26.667% | global_loss: 2.270548105239868\n",
            "comm_round: 48 | global_acc: 26.667% | global_loss: 2.2700579166412354\n",
            "comm_round: 49 | global_acc: 26.667% | global_loss: 2.2696850299835205\n"
          ]
        }
      ],
      "source": [
        "#commence global training loop\n",
        "for comm_round in range(comms_round):\n",
        "            \n",
        "    # get the global model's weights - will serve as the initial weights for all local models\n",
        "    global_weights = global_model.get_weights()\n",
        "    \n",
        "    #initial list to collect local model weights after scalling\n",
        "    scaled_local_weight_list = list()\n",
        "\n",
        "    #randomize client data - using keys\n",
        "    all_client_names = list(clients_batched.keys())\n",
        "           \n",
        "    client_names = random.sample(all_client_names, k=10)\n",
        "    random.shuffle(client_names)\n",
        "    if debug: \n",
        "        # print('all_client_names', all_client_names)\n",
        "        print('client_names', client_names)\n",
        "    \n",
        "    #loop through each client and create new local model\n",
        "    for client in client_names:\n",
        "        smlp_local = SimpleMLP()\n",
        "        local_model = smlp_local.build(build_shape, 10)\n",
        "        local_model.compile(loss=loss, \n",
        "                      optimizer=optimizer, \n",
        "                      metrics=metrics)\n",
        "        \n",
        "        #set local model weight to the weight of the global model\n",
        "        local_model.set_weights(global_weights)\n",
        "        \n",
        "        #fit local model with client's data\n",
        "        local_model.fit(clients_batched[client], epochs=1, verbose=0)\n",
        "        \n",
        "        #scale the model weights and add to list\n",
        "        scaling_factor = 0.1 # weight_scalling_factor(clients_batched, client)\n",
        "        scaled_weights = scale_model_weights(local_model.get_weights(), scaling_factor)\n",
        "        scaled_local_weight_list.append(scaled_weights)\n",
        "        \n",
        "        #clear session to free memory after each communication round\n",
        "        K.clear_session()\n",
        "        \n",
        "    #to get the average over all the local model, we simply take the sum of the scaled weights\n",
        "    average_weights = sum_scaled_weights(scaled_local_weight_list)\n",
        "    \n",
        "    #update global model \n",
        "    global_model.set_weights(average_weights)\n",
        "\n",
        "    #test global model and print out metrics after each communications round\n",
        "    for(X_test, Y_test) in test_batched:\n",
        "        global_acc, global_loss = test_model(X_test, Y_test, global_model, comm_round)\n",
        "        global_acc_list.append(global_acc)\n",
        "        global_loss_list.append(global_loss)"
      ]
    },
    {
      "cell_type": "code",
      "execution_count": 33,
      "metadata": {
        "execution": {
          "iopub.execute_input": "2021-07-13T16:30:28.943794Z",
          "iopub.status.busy": "2021-07-13T16:30:28.943041Z",
          "iopub.status.idle": "2021-07-13T16:30:29.273959Z",
          "shell.execute_reply": "2021-07-13T16:30:29.272921Z",
          "shell.execute_reply.started": "2021-07-13T16:30:28.943748Z"
        },
        "trusted": true,
        "colab": {
          "base_uri": "https://localhost:8080/"
        },
        "id": "E0kP3CxAYaj-",
        "outputId": "4441ed75-1c99-4352-ee10-39e3d6c0ca4f"
      },
      "outputs": [
        {
          "output_type": "stream",
          "name": "stdout",
          "text": [
            "Non-IID | total comm rounds 50\n"
          ]
        },
        {
          "output_type": "display_data",
          "data": {
            "image/png": "[encoded data removed]",
            "text/plain": [
              "<Figure size 1152x288 with 2 Axes>"
            ]
          },
          "metadata": {
            "needs_background": "light"
          }
        }
      ],
      "source": [
        "# Non-IID \n",
        "import matplotlib.pyplot as plt\n",
        "plt.figure(figsize=(16,4))\n",
        "plt.subplot(121)\n",
        "plt.plot(list(range(0,len(global_loss_list))), global_loss_list)\n",
        "plt.subplot(122)\n",
        "plt.plot(list(range(0,len(global_acc_list))), global_acc_list)\n",
        "print('Non-IID | total comm rounds', len(global_acc_list))           "
      ]
    },
    {
      "cell_type": "code",
      "execution_count": 34,
      "metadata": {
        "execution": {
          "iopub.execute_input": "2021-07-05T15:09:46.903416Z",
          "iopub.status.busy": "2021-07-05T15:09:46.902904Z",
          "iopub.status.idle": "2021-07-05T15:09:46.915551Z",
          "shell.execute_reply": "2021-07-05T15:09:46.914382Z",
          "shell.execute_reply.started": "2021-07-05T15:09:46.903364Z"
        },
        "trusted": true,
        "id": "AwWkMyrrYakG"
      },
      "outputs": [],
      "source": [
        "noniid_df = pd.DataFrame(list(zip(global_acc_list, global_loss_list)), columns =['global_acc_list', 'global_loss_list'])\n",
        "noniid_df.to_csv('CIFAR-10_Non-IID.csv',index=False)"
      ]
    },
    {
      "cell_type": "code",
      "execution_count": 34,
      "metadata": {
        "id": "cWCCzj14YakH"
      },
      "outputs": [],
      "source": [
        ""
      ]
    }
  ],
  "metadata": {
    "kernelspec": {
      "display_name": "Python 3",
      "language": "python",
      "name": "python3"
    },
    "language_info": {
      "codemirror_mode": {
        "name": "ipython",
        "version": 3
      },
      "file_extension": ".py",
      "mimetype": "text/x-python",
      "name": "python",
      "nbconvert_exporter": "python",
      "pygments_lexer": "ipython3",
      "version": "3.9.7"
    },
    "colab": {
      "name": "federated-learning-mnist-cifar-10.ipynb",
      "provenance": [],
      "collapsed_sections": [],
      "include_colab_link": true
    },
    "accelerator": "TPU"
  },
  "nbformat": 4,
  "nbformat_minor": 0
}
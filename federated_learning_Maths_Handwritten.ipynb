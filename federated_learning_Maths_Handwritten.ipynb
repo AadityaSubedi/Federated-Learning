{
  "cells": [
    {
      "cell_type": "markdown",
      "metadata": {
        "id": "view-in-github",
        "colab_type": "text"
      },
      "source": [
        "<a href=\"https://colab.research.google.com/github/Saugatkafley/Federated-Learning/blob/main/federated_learning_Maths_Handwritten.ipynb\" target=\"_parent\"><img src=\"https://colab.research.google.com/assets/colab-badge.svg\" alt=\"Open In Colab\"/></a>"
      ]
    },
    {
      "cell_type": "markdown",
      "metadata": {
        "id": "tL1cV9R2Ymmo"
      },
      "source": [
        "## Mounting Kaggle Dataset Maths Handwritten.\n",
        "At first you have to upload the `kaggle.json` file , which can be obtained from `kaggle.com` -> `Account Settings`.\n",
        "Scroll a bit and there obtain `Create New API token`. \n",
        "Then upload it to the directory."
      ]
    },
    {
      "cell_type": "code",
      "execution_count": null,
      "metadata": {
        "id": "89TIcP1CYfLX"
      },
      "outputs": [],
      "source": [
        "!pip install kaggle"
      ]
    },
    {
      "cell_type": "markdown",
      "metadata": {
        "id": "rU8sVujueF-y"
      },
      "source": [
        "Making a directory --> `./kaggle` \n",
        "\n",
        "Copying `kaggle.json` to the directory\n",
        "\n",
        "Changing the permisssion to `600`."
      ]
    },
    {
      "cell_type": "code",
      "execution_count": null,
      "metadata": {
        "id": "Vw8EJD5GZltR"
      },
      "outputs": [],
      "source": [
        "! mkdir ~/.kaggle\n",
        "! cp kaggle.json ~/.kaggle/\n",
        "! chmod 600 ~/.kaggle/kaggle.json"
      ]
    },
    {
      "cell_type": "code",
      "execution_count": null,
      "metadata": {
        "id": "QolI7FIgAWTg"
      },
      "outputs": [],
      "source": [
        "# ! kaggle datasets download -d sagyamthapa/handwritten-math-symbols\n",
        "! kaggle datasets download -d xainano/handwrittenmathsymbols\n",
        "# !unzip mnistasjpg.zip\n",
        "! unzip handwrittenmathsymbols.zip\n",
        "! sudo apt install unrar\n",
        "! unrar x data.rar /content/data/"
      ]
    },
    {
      "cell_type": "code",
      "execution_count": null,
      "metadata": {
        "colab": {
          "base_uri": "https://localhost:8080/"
        },
        "id": "8xSJL0mpC30I",
        "outputId": "ca3eb5fd-e4df-41b8-e60c-112a53559a09"
      },
      "outputs": [
        {
          "name": "stdout",
          "output_type": "stream",
          "text": [
            "Collecting split-folders\n",
            "  Downloading split_folders-0.5.1-py3-none-any.whl (8.4 kB)\n",
            "Installing collected packages: split-folders\n",
            "Successfully installed split-folders-0.5.1\n"
          ]
        },
        {
          "name": "stderr",
          "output_type": "stream",
          "text": [
            "Copying files: 375974 files [01:12, 5167.81 files/s]\n"
          ]
        }
      ],
      "source": [
        "! pip install split-folders\n",
        "\n",
        "import splitfolders\n",
        "\n",
        "input_folder  = '/content/data/extracted_images/'\n",
        "\n",
        "splitfolders.ratio(\n",
        "    input_folder,\n",
        "    output = \"dataset\",\n",
        "    seed =42,\n",
        "    ratio = (.2,.8),\n",
        ")"
      ]
    },
    {
      "cell_type": "markdown",
      "metadata": {
        "id": "ekGOiwyNO8mF"
      },
      "source": [
        "## Importing Libraries "
      ]
    },
    {
      "cell_type": "code",
      "execution_count": null,
      "metadata": {
        "colab": {
          "base_uri": "https://localhost:8080/"
        },
        "id": "pXb8S1S2YajE",
        "outputId": "22c15f33-7527-491b-a7e5-d709ed16aab5"
      },
      "outputs": [
        {
          "name": "stdout",
          "output_type": "stream",
          "text": [
            "Requirement already satisfied: imutils in /usr/local/lib/python3.7/dist-packages (0.5.4)\n"
          ]
        }
      ],
      "source": [
        "import numpy as np\n",
        "import pandas as pd\n",
        "import random\n",
        "import cv2\n",
        "import os\n",
        "from tqdm import tqdm\n",
        "\n",
        "from sklearn.model_selection import train_test_split\n",
        "from sklearn.preprocessing import LabelBinarizer\n",
        "from sklearn.model_selection import train_test_split\n",
        "from sklearn.utils import shuffle\n",
        "from sklearn.metrics import accuracy_score\n",
        "\n",
        "import tensorflow as tf\n",
        "from tensorflow import expand_dims\n",
        "from tensorflow.keras.models import Sequential\n",
        "from tensorflow.keras.layers import Conv2D, Input, Lambda\n",
        "from tensorflow.keras.layers import MaxPooling2D\n",
        "from tensorflow.keras.layers import Activation\n",
        "from tensorflow.keras.layers import Flatten\n",
        "from tensorflow.keras.layers import Dense\n",
        "from tensorflow.keras.optimizers import SGD\n",
        "from tensorflow.keras import backend as K\n",
        "\n",
        "!pip install imutils\n",
        "from imutils import paths"
      ]
    },
    {
      "cell_type": "code",
      "execution_count": null,
      "metadata": {
        "colab": {
          "base_uri": "https://localhost:8080/",
          "height": 281
        },
        "id": "r950km2A-l0w",
        "outputId": "6c37e1f7-66d0-47f6-a466-519ade52e565"
      },
      "outputs": [
        {
          "data": {
            "image/png": "[encoded data removed]",
            "text/plain": [
              "<Figure size 432x288 with 1 Axes>"
            ]
          },
          "metadata": {},
          "output_type": "display_data"
        }
      ],
      "source": [
        "# import cv2\n",
        "# import matplotlib.pyplot as plt\n",
        "\n",
        "# # img  = cv2.imread(\"5.png\" )\n",
        "# img  = cv2.imread(\"/content/dataset/train/sum/exp100626.jpg\")\n",
        "# # img_copy = img.copy()\n",
        "# # img_gray = cv2.cvtColor(img, cv2.COLOR_BGR2GRAY)\n",
        "# plt.imshow(img, cmap = 'gray')\n",
        "# plt.title(\"Image--Sum\")\n",
        "# plt.show()"
      ]
    },
    {
      "cell_type": "markdown",
      "metadata": {
        "id": "qx8f_JkQEDu6"
      },
      "source": [
        "## Training Dataset Preprocessing."
      ]
    },
    {
      "cell_type": "code",
      "execution_count": null,
      "metadata": {
        "id": "r9aOeT09Yajf"
      },
      "outputs": [],
      "source": [
        "def load(paths, verbose=-1):\n",
        "    '''expects images for each class in seperate dir, \n",
        "    e.g all digits in 0 class in the directory named 0 '''\n",
        "    data = list()\n",
        "    labels = list()\n",
        "    # loop over the input images\n",
        "    for (i, imgpath) in enumerate(paths):\n",
        "        # load the image and extract the class labels        \n",
        "        image = cv2.imread(imgpath )\n",
        "\n",
        "        # print(image.shape)\n",
        "        label = imgpath.split(os.path.sep)[-2]\n",
        "        # scale the image to [0, 1] and add to list\n",
        "        data.append(image/255)\n",
        "        labels.append(label)\n",
        "    return data, labels\n",
        "\n",
        "def create_clients(image_list, label_list, num_clients=10, initial='clients'):\n",
        "    ''' return: a dictionary with keys clients' names and value as \n",
        "                data shards - tuple of images and label lists.\n",
        "        args: \n",
        "            image_list: a list of numpy arrays of training images\n",
        "            label_list:a list of binarized labels for each image\n",
        "            num_client: number of fedrated members (clients)\n",
        "            initials: the clients'name prefix, e.g, clients_1 \n",
        "            \n",
        "    '''\n",
        "\n",
        "    #create a list of client names\n",
        "    client_names = ['{}_{}'.format(initial, i+1) for i in range(num_clients)]\n",
        "\n",
        "    #randomize the data\n",
        "    data = list(zip(image_list, label_list))\n",
        "    random.shuffle(data)  # <- IID\n",
        "\n",
        "    #shard data and place at each client\n",
        "    size = len(data)//num_clients\n",
        "    shards = [data[i:i + size] for i in range(0, size*num_clients, size)]\n",
        "\n",
        "    #number of clients must equal number of shards\n",
        "    assert(len(shards) == len(client_names))\n",
        "\n",
        "    return {client_names[i] : shards[i] for i in range(len(client_names))} \n",
        "\n",
        "\n",
        "def batch_data(data_shard, bs=32):\n",
        "    '''Takes in a clients data shard and create a tfds object off it\n",
        "    args:\n",
        "        shard: a data, label constituting a client's data shard\n",
        "        bs:batch size\n",
        "    return:\n",
        "        tfds object'''\n",
        "    #seperate shard into data and labels lists\n",
        "    data, label = zip(*data_shard)\n",
        "    # dataset = tf.data.Dataset.from_tensor_slices(list(data), list(label))\n",
        "    dataset = tf.data.Dataset.from_tensor_slices((list(data), list(label)))\n",
        "    return dataset.shuffle(len(label)).batch(bs)\n",
        "\n",
        "\n",
        "def weight_scalling_factor(clients_trn_data, client_name):\n",
        "    client_names = list(clients_trn_data.keys())\n",
        "    #get the bs\n",
        "    bs = list(clients_trn_data[client_name])[0][0].shape[0]\n",
        "    #first calculate the total training data points across clients\n",
        "    global_count = sum([tf.data.experimental.cardinality(clients_trn_data[client_name]).numpy() for client_name in client_names])*bs\n",
        "    # get the total number of data points held by a client\n",
        "    local_count = tf.data.experimental.cardinality(clients_trn_data[client_name]).numpy()*bs\n",
        "  \n",
        "    return local_count/global_count\n",
        "\n",
        "\n",
        "def scale_model_weights(weight, scalar):\n",
        "    '''function for scaling a models weights'''\n",
        "    weight_final = []\n",
        "    steps = len(weight)\n",
        "    for i in range(steps):\n",
        "        weight_final.append(scalar * weight[i])\n",
        "    return weight_final\n",
        "\n",
        "\n",
        "\n",
        "def sum_scaled_weights(scaled_weight_list):\n",
        "    '''Return the sum of the listed scaled weights. The is equivalent to scaled avg of the weights'''\n",
        "    avg_grad = list()\n",
        "    #get the average grad accross all client gradients\n",
        "    for grad_list_tuple in zip(*scaled_weight_list):\n",
        "        layer_mean = tf.math.reduce_sum(grad_list_tuple, axis=0)\n",
        "        avg_grad.append(layer_mean)\n",
        "        \n",
        "    return avg_grad\n",
        "\n",
        "\n",
        "def test_model(X_test, Y_test,  model, comm_round):\n",
        "    cce = tf.keras.losses.CategoricalCrossentropy(from_logits=True)\n",
        "    logits = model.predict(X_test)\n",
        "    loss = cce(Y_test, logits)\n",
        "    acc = accuracy_score(tf.argmax(logits, axis=1), tf.argmax(Y_test, axis=1))\n",
        "    print('comm_round: {} | global_acc: {:.3%} | global_loss: {}'.format(comm_round, acc, loss))\n",
        "    return acc, loss\n"
      ]
    },
    {
      "cell_type": "markdown",
      "metadata": {
        "id": "wINO-rQoPP9d"
      },
      "source": [
        "## Building CNN model\n",
        "Model has `input-shape` of `[45,45,3]`\n",
        "\n",
        "`Conv2D` layer having `filter` = `32` , `kernel_size` = `3` and Activation function  = `'relu'`\n",
        "\n",
        "`MaxPool2D` layer having `strides` and `pool_size`  = `2`\n",
        "\n",
        "And the after 2 `Conv2D`layers the layers are `Flatten`.\n",
        "The layers are then fully connected by `Dense` layers . \n",
        "\n",
        "The output is `Dense` layer of `82` units having activation `softmax`."
      ]
    },
    {
      "cell_type": "code",
      "execution_count": null,
      "metadata": {
        "id": "V8sqXLqRL5Vj"
      },
      "outputs": [],
      "source": [
        "def create_keras_model(shape , classes):\n",
        "  model = tf.keras.Sequential()\n",
        "  \n",
        "  model.add(tf.keras.layers.Conv2D(filters =32 , kernel_size =3  , activation='relu' , input_shape = [shape[0], shape[1] , shape[2] ]))\n",
        "  # model.add(Lambda(lambda x: expand_dims(x, axis=-1)))\n",
        "  # model.add(tf.keras.layers.Conv2D(filters =32 , kernel_size =3  , activation='relu' , input_shape  =(shape,)))\n",
        "  model.add(tf.keras.layers.MaxPool2D( strides = 2,pool_size=2))\n",
        "\n",
        "  model.add(tf.keras.layers.Conv2D(filters = 32, kernel_size = 3 , activation = 'relu' ))\n",
        "  model.add(tf.keras.layers.MaxPool2D(strides = 2, pool_size  =2))\n",
        "\n",
        "  model.add(tf.keras.layers.Flatten())\n",
        "  model.add(tf.keras.layers.Dense(units  = 128 , activation = 'relu'))\n",
        "  model.add(tf.keras.layers.Dropout(0.25))\n",
        "  model.add(tf.keras.layers.Dense(units  = 128 , activation = 'relu'))\n",
        "  model.add(tf.keras.layers.Dropout(0.25))\n",
        "  model.add(tf.keras.layers.Dense(units  =classes  ,activation  ='softmax'))\n",
        "  return model  "
      ]
    },
    {
      "cell_type": "markdown",
      "metadata": {
        "id": "RRSFOsQMQ6uc"
      },
      "source": [
        "## Getting Image from the directories and giving them respective labels. \n",
        "\n",
        "`Labels` are then binary encoding by `LabelBinarizer()`"
      ]
    },
    {
      "cell_type": "code",
      "execution_count": null,
      "metadata": {
        "colab": {
          "base_uri": "https://localhost:8080/"
        },
        "id": "6jybBZygYajq",
        "outputId": "c79709de-b4b9-4cef-f6df-a2ff795443ab"
      },
      "outputs": [
        {
          "name": "stdout",
          "output_type": "stream",
          "text": [
            "75161\n",
            "75161\n"
          ]
        }
      ],
      "source": [
        "#declear path to your Image data folder\n",
        "\n",
        "img_path = './dataset/train/'\n",
        "image_paths = sorted(list(paths.list_images(img_path)))\n",
        "\n",
        "#apply our function\n",
        "image_list, label_list = load(image_paths)\n",
        "\n",
        "print(len(image_list))\n",
        "#binarize the labels\n",
        "lb = LabelBinarizer()\n",
        "label_list = lb.fit_transform(label_list)\n",
        "print(len(label_list))"
      ]
    },
    {
      "cell_type": "markdown",
      "metadata": {
        "id": "q7USb1bwRURl"
      },
      "source": [
        "Splitting dataset into `X_train, X_test, y_train, y_test`"
      ]
    },
    {
      "cell_type": "code",
      "execution_count": null,
      "metadata": {
        "id": "X70EUPjLYajr"
      },
      "outputs": [],
      "source": [
        "#split data into training and test set\n",
        "X_train, X_test, y_train, y_test = train_test_split(image_list, \n",
        "                                                    label_list, \n",
        "                                                    test_size=0.1, \n",
        "                                                    random_state=42)"
      ]
    },
    {
      "cell_type": "markdown",
      "metadata": {
        "id": "pwvm90BaYajv"
      },
      "source": [
        "### IID"
      ]
    },
    {
      "cell_type": "code",
      "execution_count": null,
      "metadata": {
        "colab": {
          "base_uri": "https://localhost:8080/"
        },
        "id": "JQh87cnCYajw",
        "outputId": "1175b446-1a9c-4042-f91b-30ed88c80464"
      },
      "outputs": [
        {
          "data": {
            "text/plain": [
              "(67644, 7517, 67644, 7517)"
            ]
          },
          "execution_count": 6,
          "metadata": {},
          "output_type": "execute_result"
        }
      ],
      "source": [
        "len(X_train), len(X_test), len(y_train), len(y_test)"
      ]
    },
    {
      "cell_type": "markdown",
      "metadata": {
        "id": "ENsBsxe1RgLg"
      },
      "source": [
        "## Creating Clients and batching them with datasets."
      ]
    },
    {
      "cell_type": "code",
      "execution_count": null,
      "metadata": {
        "id": "z5iyVxTsYajx"
      },
      "outputs": [],
      "source": [
        "#create clients\n",
        "num_clients = 10\n",
        "clients = create_clients(X_train, y_train, num_clients=num_clients, initial='client') #10 clients"
      ]
    },
    {
      "cell_type": "code",
      "execution_count": null,
      "metadata": {
        "id": "2A0HsxVqYajz"
      },
      "outputs": [],
      "source": [
        "# process and batch the training data for each client\n",
        "clients_batched  = dict()\n",
        "for (client_name, data) in clients.items():\n",
        "    clients_batched[client_name] = batch_data(data)\n",
        "\n",
        "    \n",
        "#process and batch the test set  \n",
        "test_batched = tf.data.Dataset.from_tensor_slices((X_test, y_test)).batch(len(y_test))"
      ]
    },
    {
      "cell_type": "markdown",
      "metadata": {
        "id": "cd17yPL1Rpwo"
      },
      "source": [
        "## Global Training Parameters"
      ]
    },
    {
      "cell_type": "code",
      "execution_count": null,
      "metadata": {
        "id": "H_rN_WivYajz"
      },
      "outputs": [],
      "source": [
        "comms_round = 1\n",
        "loss='categorical_crossentropy'\n",
        "metrics = ['accuracy']\n",
        "optimizer  = 'adam'    "
      ]
    },
    {
      "cell_type": "code",
      "execution_count": null,
      "metadata": {
        "id": "iH4Jd-WXYaj0"
      },
      "outputs": [],
      "source": [
        "#initialize global model\n",
        "build_shape = [45,45,3] # Train image Dimensions\n",
        "classes = 82\n",
        "global_model = create_keras_model(build_shape , classes)\n",
        "global_acc_list = []\n",
        "global_loss_list = []"
      ]
    },
    {
      "cell_type": "code",
      "execution_count": null,
      "metadata": {
        "colab": {
          "base_uri": "https://localhost:8080/",
          "height": 762
        },
        "id": "wJkOPO3RYaj0",
        "outputId": "fdf35cee-25a3-47ca-fd7a-18bdfa143aa0"
      },
      "outputs": [
        {
          "ename": "ValueError",
          "evalue": "ignored",
          "output_type": "error",
          "traceback": [
            "\u001b[0;31m---------------------------------------------------------------------------\u001b[0m",
            "\u001b[0;31mValueError\u001b[0m                                Traceback (most recent call last)",
            "\u001b[0;32m<ipython-input-22-bf7cf1fc8af4>\u001b[0m in \u001b[0;36m<module>\u001b[0;34m()\u001b[0m\n\u001b[1;32m     28\u001b[0m     \u001b[0mlocal_model\u001b[0m\u001b[0;34m.\u001b[0m\u001b[0mset_weights\u001b[0m\u001b[0;34m(\u001b[0m\u001b[0mglobal_weights\u001b[0m\u001b[0;34m)\u001b[0m\u001b[0;34m\u001b[0m\u001b[0;34m\u001b[0m\u001b[0m\n\u001b[1;32m     29\u001b[0m     \u001b[0;31m#fit local model with client's data\u001b[0m\u001b[0;34m\u001b[0m\u001b[0;34m\u001b[0m\u001b[0;34m\u001b[0m\u001b[0m\n\u001b[0;32m---> 30\u001b[0;31m     \u001b[0mlocal_model\u001b[0m\u001b[0;34m.\u001b[0m\u001b[0mfit\u001b[0m\u001b[0;34m(\u001b[0m\u001b[0mclients_batched\u001b[0m\u001b[0;34m[\u001b[0m\u001b[0mclient\u001b[0m\u001b[0;34m]\u001b[0m\u001b[0;34m,\u001b[0m \u001b[0mepochs\u001b[0m\u001b[0;34m=\u001b[0m\u001b[0;36m1\u001b[0m\u001b[0;34m)\u001b[0m\u001b[0;34m\u001b[0m\u001b[0;34m\u001b[0m\u001b[0m\n\u001b[0m\u001b[1;32m     31\u001b[0m     \u001b[0mloss\u001b[0m \u001b[0;34m=\u001b[0m \u001b[0mlocal_model\u001b[0m\u001b[0;34m.\u001b[0m\u001b[0mhistory\u001b[0m\u001b[0;34m.\u001b[0m\u001b[0mhistory\u001b[0m\u001b[0;34m.\u001b[0m\u001b[0mvalues\u001b[0m\u001b[0;34m(\u001b[0m\u001b[0;34m)\u001b[0m\u001b[0;34m\u001b[0m\u001b[0;34m\u001b[0m\u001b[0m\n\u001b[1;32m     32\u001b[0m     \u001b[0mlocal_acc_list\u001b[0m\u001b[0;34m.\u001b[0m\u001b[0mappend\u001b[0m\u001b[0;34m(\u001b[0m\u001b[0mloss\u001b[0m\u001b[0;34m)\u001b[0m\u001b[0;34m\u001b[0m\u001b[0;34m\u001b[0m\u001b[0m\n",
            "\u001b[0;32m/usr/local/lib/python3.7/dist-packages/keras/utils/traceback_utils.py\u001b[0m in \u001b[0;36merror_handler\u001b[0;34m(*args, **kwargs)\u001b[0m\n\u001b[1;32m     65\u001b[0m     \u001b[0;32mexcept\u001b[0m \u001b[0mException\u001b[0m \u001b[0;32mas\u001b[0m \u001b[0me\u001b[0m\u001b[0;34m:\u001b[0m  \u001b[0;31m# pylint: disable=broad-except\u001b[0m\u001b[0;34m\u001b[0m\u001b[0;34m\u001b[0m\u001b[0m\n\u001b[1;32m     66\u001b[0m       \u001b[0mfiltered_tb\u001b[0m \u001b[0;34m=\u001b[0m \u001b[0m_process_traceback_frames\u001b[0m\u001b[0;34m(\u001b[0m\u001b[0me\u001b[0m\u001b[0;34m.\u001b[0m\u001b[0m__traceback__\u001b[0m\u001b[0;34m)\u001b[0m\u001b[0;34m\u001b[0m\u001b[0;34m\u001b[0m\u001b[0m\n\u001b[0;32m---> 67\u001b[0;31m       \u001b[0;32mraise\u001b[0m \u001b[0me\u001b[0m\u001b[0;34m.\u001b[0m\u001b[0mwith_traceback\u001b[0m\u001b[0;34m(\u001b[0m\u001b[0mfiltered_tb\u001b[0m\u001b[0;34m)\u001b[0m \u001b[0;32mfrom\u001b[0m \u001b[0;32mNone\u001b[0m\u001b[0;34m\u001b[0m\u001b[0;34m\u001b[0m\u001b[0m\n\u001b[0m\u001b[1;32m     68\u001b[0m     \u001b[0;32mfinally\u001b[0m\u001b[0;34m:\u001b[0m\u001b[0;34m\u001b[0m\u001b[0;34m\u001b[0m\u001b[0m\n\u001b[1;32m     69\u001b[0m       \u001b[0;32mdel\u001b[0m \u001b[0mfiltered_tb\u001b[0m\u001b[0;34m\u001b[0m\u001b[0;34m\u001b[0m\u001b[0m\n",
            "\u001b[0;32m/usr/local/lib/python3.7/dist-packages/tensorflow/python/framework/func_graph.py\u001b[0m in \u001b[0;36mautograph_handler\u001b[0;34m(*args, **kwargs)\u001b[0m\n\u001b[1;32m   1145\u001b[0m           \u001b[0;32mexcept\u001b[0m \u001b[0mException\u001b[0m \u001b[0;32mas\u001b[0m \u001b[0me\u001b[0m\u001b[0;34m:\u001b[0m  \u001b[0;31m# pylint:disable=broad-except\u001b[0m\u001b[0;34m\u001b[0m\u001b[0;34m\u001b[0m\u001b[0m\n\u001b[1;32m   1146\u001b[0m             \u001b[0;32mif\u001b[0m \u001b[0mhasattr\u001b[0m\u001b[0;34m(\u001b[0m\u001b[0me\u001b[0m\u001b[0;34m,\u001b[0m \u001b[0;34m\"ag_error_metadata\"\u001b[0m\u001b[0;34m)\u001b[0m\u001b[0;34m:\u001b[0m\u001b[0;34m\u001b[0m\u001b[0;34m\u001b[0m\u001b[0m\n\u001b[0;32m-> 1147\u001b[0;31m               \u001b[0;32mraise\u001b[0m \u001b[0me\u001b[0m\u001b[0;34m.\u001b[0m\u001b[0mag_error_metadata\u001b[0m\u001b[0;34m.\u001b[0m\u001b[0mto_exception\u001b[0m\u001b[0;34m(\u001b[0m\u001b[0me\u001b[0m\u001b[0;34m)\u001b[0m\u001b[0;34m\u001b[0m\u001b[0;34m\u001b[0m\u001b[0m\n\u001b[0m\u001b[1;32m   1148\u001b[0m             \u001b[0;32melse\u001b[0m\u001b[0;34m:\u001b[0m\u001b[0;34m\u001b[0m\u001b[0;34m\u001b[0m\u001b[0m\n\u001b[1;32m   1149\u001b[0m               \u001b[0;32mraise\u001b[0m\u001b[0;34m\u001b[0m\u001b[0;34m\u001b[0m\u001b[0m\n",
            "\u001b[0;31mValueError\u001b[0m: in user code:\n\n    File \"/usr/local/lib/python3.7/dist-packages/keras/engine/training.py\", line 1021, in train_function  *\n        return step_function(self, iterator)\n    File \"/usr/local/lib/python3.7/dist-packages/keras/engine/training.py\", line 1010, in step_function  **\n        outputs = model.distribute_strategy.run(run_step, args=(data,))\n    File \"/usr/local/lib/python3.7/dist-packages/keras/engine/training.py\", line 1000, in run_step  **\n        outputs = model.train_step(data)\n    File \"/usr/local/lib/python3.7/dist-packages/keras/engine/training.py\", line 860, in train_step\n        loss = self.compute_loss(x, y, y_pred, sample_weight)\n    File \"/usr/local/lib/python3.7/dist-packages/keras/engine/training.py\", line 919, in compute_loss\n        y, y_pred, sample_weight, regularization_losses=self.losses)\n    File \"/usr/local/lib/python3.7/dist-packages/keras/engine/compile_utils.py\", line 184, in __call__\n        self.build(y_pred)\n    File \"/usr/local/lib/python3.7/dist-packages/keras/engine/compile_utils.py\", line 132, in build\n        self._losses = self._conform_to_outputs(y_pred, self._losses)\n    File \"/usr/local/lib/python3.7/dist-packages/keras/engine/compile_utils.py\", line 56, in _conform_to_outputs\n        struct = map_to_output_names(outputs, self._output_names, struct)\n    File \"/usr/local/lib/python3.7/dist-packages/keras/engine/compile_utils.py\", line 652, in map_to_output_names\n        'Found unexpected losses or metrics that do not correspond '\n\n    ValueError: Found unexpected losses or metrics that do not correspond to any Model output: dict_keys(['loss', 'accuracy']). Valid mode output names: ['dense_11']. Received struct is: {'loss': ListWrapper([2.1534390449523926]), 'accuracy': ListWrapper([0.4926079213619232])}.\n"
          ]
        }
      ],
      "source": [
        "#commence global training loop\n",
        "for comm_round in range(comms_round):\n",
        "          \n",
        "  # get the global model's weights - will serve as the initial weights for all local models\n",
        "  global_weights = global_model.get_weights()\n",
        "  \n",
        "  #initial list to collect local model weights after scalling\n",
        "  scaled_local_weight_list = list()\n",
        "\n",
        "  #randomize client data - using keys\n",
        "  all_client_names = list(clients_batched.keys())\n",
        "          \n",
        "  client_names = random.sample(all_client_names, k=10)\n",
        "  # print(client_names, len(client_names))\n",
        "  random.shuffle(client_names)\n",
        "\n",
        "  #loop through each client and create new local model\n",
        "  for client in client_names:\n",
        "    local_model = create_keras_model(build_shape, classes)\n",
        "    local_model.compile(loss=loss, \n",
        "                  optimizer=optimizer, \n",
        "                  metrics=metrics)\n",
        "    \n",
        "    #set local model weight to the weight of the global model\n",
        "    local_model.set_weights(global_weights)\n",
        "    #fit local model with client's data\n",
        "    local_model.fit(clients_batched[client], epochs=1)\n",
        "    \n",
        "    #scale the model weights and add to list\n",
        "    scaling_factor = 0.1 # weight_scalling_factor(clients_batched, client)\n",
        "    \n",
        "    scaled_weights = scale_model_weights(local_model.get_weights(), scaling_factor)\n",
        "    scaled_local_weight_list.append(scaled_weights)\n",
        "    \n",
        "    #clear session to free memory after each communication round\n",
        "    K.clear_session()\n",
        "    \n",
        "  #to get the average over all the local model, we simply take the sum of the scaled weights\n",
        "  average_weights = sum_scaled_weights(scaled_local_weight_list)\n",
        "  \n",
        "  #update global model \n",
        "  global_model.set_weights(average_weights)\n",
        "\n",
        "  #test global model and print out metrics after each communications round\n",
        "  for(X_test, Y_test) in test_batched:\n",
        "      global_acc, global_loss = test_model(X_test, Y_test, global_model, comm_round)\n",
        "      global_acc_list.append(global_acc)\n",
        "      global_loss_list.append(global_loss)"
      ]
    },
    {
      "cell_type": "markdown",
      "metadata": {
        "id": "ratgY_rxSNZV"
      },
      "source": [
        "## Making a single prediction with Global Model"
      ]
    },
    {
      "cell_type": "code",
      "execution_count": null,
      "metadata": {
        "colab": {
          "base_uri": "https://localhost:8080/"
        },
        "id": "4GLiBxkec1xK",
        "outputId": "38e0f032-5fa9-45b2-8a82-f638c21130c9"
      },
      "outputs": [
        {
          "name": "stdout",
          "output_type": "stream",
          "text": [
            "4\n"
          ]
        }
      ],
      "source": [
        "import numpy as np\n",
        "from keras.preprocessing import image\n",
        "test_image = image.load_img('5.png' , target_size = (45,45))\n",
        "#change to PIL format\n",
        "test_image = image.img_to_array(test_image) \n",
        "test_image = np.expand_dims(test_image , axis = 0) #extra dimension to batch\n",
        "result = global_model.predict(test_image)\n",
        "result = lb.inverse_transform(result)\n",
        "result1 = \"\".join(str(e) for e in result)\n",
        "print(result1)"
      ]
    },
    {
      "cell_type": "markdown",
      "metadata": {
        "id": "6aX-BRvVSZAt"
      },
      "source": [
        "## Saving and Loading Models"
      ]
    },
    {
      "cell_type": "code",
      "execution_count": null,
      "metadata": {
        "colab": {
          "base_uri": "https://localhost:8080/"
        },
        "id": "8wTMK1pHCOOX",
        "outputId": "bb3287ac-4d4a-498e-e56f-d60d8e36e018"
      },
      "outputs": [
        {
          "name": "stdout",
          "output_type": "stream",
          "text": [
            "Mounted at /content/drive\n"
          ]
        }
      ],
      "source": [
        "from google.colab import drive\n",
        "drive.mount('/content/drive')"
      ]
    },
    {
      "cell_type": "code",
      "execution_count": null,
      "metadata": {
        "colab": {
          "base_uri": "https://localhost:8080/"
        },
        "id": "F_A3PYRLqlvX",
        "outputId": "5c471ae2-4287-419a-e3d0-2b875da3fed6"
      },
      "outputs": [
        {
          "name": "stdout",
          "output_type": "stream",
          "text": [
            "WARNING:tensorflow:Compiled the loaded model, but the compiled metrics have yet to be built. `model.compile_metrics` will be empty until you train or evaluate the model.\n",
            "INFO:tensorflow:Assets written to: /content/drive/MyDrive/global_model/assets\n"
          ]
        }
      ],
      "source": [
        "global_model.save(\"/content/drive/MyDrive/global_model/\")"
      ]
    },
    {
      "cell_type": "code",
      "execution_count": null,
      "metadata": {
        "colab": {
          "base_uri": "https://localhost:8080/"
        },
        "id": "bSya1SOqCN0k",
        "outputId": "7c951ec2-6acb-412c-933e-ec35a8125378"
      },
      "outputs": [
        {
          "name": "stdout",
          "output_type": "stream",
          "text": [
            "WARNING:tensorflow:No training configuration found in save file, so the model was *not* compiled. Compile it manually.\n"
          ]
        }
      ],
      "source": [
        "import tensorflow as tf\n",
        "global_model = tf.keras.models.load_model(\"/content/drive/MyDrive/global_model/\")"
      ]
    },
    {
      "cell_type": "markdown",
      "metadata": {
        "id": "dSbM9mXBl3gc"
      },
      "source": [
        "## Using OPENCV to classify multiple digits prediction using bounding box.\n"
      ]
    },
    {
      "cell_type": "code",
      "execution_count": null,
      "metadata": {
        "colab": {
          "base_uri": "https://localhost:8080/"
        },
        "id": "er9S8sJL0mzs",
        "outputId": "8cbea865-5291-418d-cef6-c5bd70431a53"
      },
      "outputs": [
        {
          "name": "stdout",
          "output_type": "stream",
          "text": [
            "Collecting wget\n",
            "  Downloading wget-3.2.zip (10 kB)\n",
            "Building wheels for collected packages: wget\n",
            "  Building wheel for wget (setup.py) ... \u001b[?25l\u001b[?25hdone\n",
            "  Created wheel for wget: filename=wget-3.2-py3-none-any.whl size=9675 sha256=fee381913925f6d1964e2854bc31f2d2f69df3e92e03d45266f0b2a58194dccd\n",
            "  Stored in directory: /root/.cache/pip/wheels/a1/b6/7c/0e63e34eb06634181c63adacca38b79ff8f35c37e3c13e3c02\n",
            "Successfully built wget\n",
            "Installing collected packages: wget\n",
            "Successfully installed wget-3.2\n"
          ]
        },
        {
          "name": "stderr",
          "output_type": "stream",
          "text": [
            "/usr/local/lib/python3.7/dist-packages/google/colab/_pip.py:87: ResourceWarning: unclosed file <_io.TextIOWrapper name='/usr/local/lib/python3.7/dist-packages/wget-3.2.dist-info/top_level.txt' mode='r' encoding='UTF-8'>\n",
            "  for line in open(toplevel):\n",
            "ResourceWarning: Enable tracemalloc to get the object allocation traceback\n"
          ]
        }
      ],
      "source": [
        "! pip install wget"
      ]
    },
    {
      "cell_type": "code",
      "execution_count": null,
      "metadata": {
        "id": "LcB91p4wyu7M"
      },
      "outputs": [],
      "source": [
        "import wget\n",
        "file_name = wget.download (\"https://i.imgur.com/hRmXkdQ.png\")\n",
        "# ! wget https://i.imgur.com/PwWiTk8.png\n",
        "# file_url  = \"https://i.imgur.com/PwWiTk8.png\"\n",
        "# file_name = file_url.split(\"/\")[-1]\n"
      ]
    },
    {
      "cell_type": "code",
      "execution_count": null,
      "metadata": {
        "colab": {
          "base_uri": "https://localhost:8080/",
          "height": 240
        },
        "id": "vXWm_b8yl7Qf",
        "outputId": "59e02a7c-7416-40ed-9b4d-0f1133387c28"
      },
      "outputs": [
        {
          "data": {
            "image/png": "[encoded data removed]",
            "text/plain": [
              "<Figure size 432x288 with 1 Axes>"
            ]
          },
          "metadata": {},
          "output_type": "display_data"
        }
      ],
      "source": [
        "from tensorflow.keras.preprocessing import image\n",
        "import cv2\n",
        "import matplotlib.pyplot as plt\n",
        "\n",
        "# img  = cv2.imread(\"5.png\" )\n",
        "img  = cv2.imread(file_name)\n",
        "img_copy = img.copy()\n",
        "img_gray = cv2.cvtColor(img, cv2.COLOR_BGR2GRAY)\n",
        "plt.imshow(img, cmap = 'gray')\n",
        "plt.show()"
      ]
    },
    {
      "cell_type": "code",
      "execution_count": null,
      "metadata": {
        "colab": {
          "base_uri": "https://localhost:8080/",
          "height": 252
        },
        "id": "uu_xktICwpEI",
        "outputId": "77902fe5-bd9c-4d8c-f47d-7418a54336db"
      },
      "outputs": [
        {
          "data": {
            "image/png": "[encoded data removed]",
            "text/plain": [
              "<Figure size 432x288 with 1 Axes>"
            ]
          },
          "metadata": {},
          "output_type": "display_data"
        }
      ],
      "source": [
        "# img = image.img_to_array(img, dtype='uint8')\n",
        "(thresh, img_bin) = cv2.threshold(img_gray, 20, 255 , cv2.THRESH_BINARY_INV + cv2.THRESH_OTSU)\n",
        "plt.imshow(img_bin,cmap='gray')\n",
        "plt.title('Threshold: {}'.format(thresh))\n",
        "plt.show()"
      ]
    },
    {
      "cell_type": "code",
      "execution_count": null,
      "metadata": {
        "colab": {
          "base_uri": "https://localhost:8080/",
          "height": 258
        },
        "id": "7hlugLzv05Ym",
        "outputId": "78c5babc-cc45-465c-bbee-01794a5606f0"
      },
      "outputs": [
        {
          "data": {
            "text/plain": [
              "<matplotlib.image.AxesImage at 0x7f87d5a9a690>"
            ]
          },
          "execution_count": 132,
          "metadata": {},
          "output_type": "execute_result"
        },
        {
          "data": {
            "image/png": "[encoded data removed]",
            "text/plain": [
              "<Figure size 432x288 with 1 Axes>"
            ]
          },
          "metadata": {},
          "output_type": "display_data"
        }
      ],
      "source": [
        "cv2.floodFill(img_bin, None, (0, 0), 0)\n",
        "plt.imshow(img_bin,)"
      ]
    },
    {
      "cell_type": "code",
      "execution_count": null,
      "metadata": {
        "id": "ALvABQ9c1LrH"
      },
      "outputs": [],
      "source": [
        "# Get each bounding box\n",
        "# Find the big contours/blobs on the filtered image:\n",
        "\n",
        "# Bug use img_gray not binary image \n",
        "contours, hierarchy = cv2.findContours(img_bin, cv2.RETR_EXTERNAL, cv2.CHAIN_APPROX_SIMPLE)"
      ]
    },
    {
      "cell_type": "code",
      "execution_count": null,
      "metadata": {
        "id": "HDebl5T9pXjb"
      },
      "outputs": [],
      "source": [
        "sorted_ctrs = sorted(contours, key=lambda ctr: cv2.boundingRect(ctr)[0])"
      ]
    },
    {
      "cell_type": "code",
      "execution_count": null,
      "metadata": {
        "colab": {
          "base_uri": "https://localhost:8080/",
          "height": 1000
        },
        "id": "ZXitGlj11Yod",
        "outputId": "2b27e4d4-2d7a-4825-d83d-810632ef80de"
      },
      "outputs": [
        {
          "name": "stdout",
          "output_type": "stream",
          "text": [
            "['3']\n"
          ]
        },
        {
          "data": {
            "image/png": "[encoded data removed]",
            "text/plain": [
              "<PIL.Image.Image image mode=RGB size=78x165 at 0x7F87D5D151D0>"
            ]
          },
          "metadata": {},
          "output_type": "display_data"
        },
        {
          "data": {
            "image/png": "[encoded data removed]",
            "text/plain": [
              "<Figure size 432x288 with 1 Axes>"
            ]
          },
          "metadata": {},
          "output_type": "display_data"
        },
        {
          "name": "stdout",
          "output_type": "stream",
          "text": [
            "['3', '+']\n"
          ]
        },
        {
          "data": {
            "image/png": "[encoded data removed]",
            "text/plain": [
              "<PIL.Image.Image image mode=RGB size=81x102 at 0x7F87C4826CD0>"
            ]
          },
          "metadata": {},
          "output_type": "display_data"
        },
        {
          "data": {
            "image/png": "[encoded data removed]",
            "text/plain": [
              "<Figure size 432x288 with 1 Axes>"
            ]
          },
          "metadata": {},
          "output_type": "display_data"
        },
        {
          "name": "stdout",
          "output_type": "stream",
          "text": [
            "['3', '+', '5']\n"
          ]
        },
        {
          "data": {
            "image/png": "[encoded data removed]",
            "text/plain": [
              "<PIL.Image.Image image mode=RGB size=130x137 at 0x7F87D5945950>"
            ]
          },
          "metadata": {},
          "output_type": "display_data"
        },
        {
          "data": {
            "image/png": "[encoded data removed]",
            "text/plain": [
              "<Figure size 432x288 with 1 Axes>"
            ]
          },
          "metadata": {},
          "output_type": "display_data"
        },
        {
          "name": "stdout",
          "output_type": "stream",
          "text": [
            "8\n"
          ]
        }
      ],
      "source": [
        "from google.colab.patches import cv2_imshow\n",
        "from keras.preprocessing import image\n",
        "import numpy as np\n",
        "predictions  = []\n",
        "# Look for the outer bounding boxes (no children):\n",
        "current_crop = [] # hold the cropped images\n",
        "for _, c in enumerate(sorted_ctrs):\n",
        "\n",
        "  # Get the bounding rectangle of the current contour:\n",
        "  boundRect = cv2.boundingRect(c)\n",
        "\n",
        "  # Get the bounding rectangle data:\n",
        "  rectX = boundRect[0]\n",
        "  rectY = boundRect[1]\n",
        "  rectWidth = boundRect[2]\n",
        "  rectHeight = boundRect[3]\n",
        "  \n",
        "  # Estimate the bounding rect area:\n",
        "  rectArea = rectWidth * rectHeight\n",
        "  # print(rectArea)\n",
        "  # Set a min area threshold\n",
        "  minArea =40\n",
        "\n",
        "  # Filter blobs by area:\n",
        "  if rectArea > minArea:\n",
        "\n",
        "    # Draw bounding box:\n",
        "    color = (255, 0, 255)\n",
        "    cv2.rectangle(img_copy, (int(rectX), int(rectY)),\n",
        "                  (int(rectX + rectWidth), int(rectY + rectHeight)), color, 1)\n",
        "\n",
        "    # Crop bounding box:\n",
        "    currentCrop = img[rectY-3:rectY+rectHeight+3,rectX-3:rectX+rectWidth+3]\n",
        "    current_crop.append(currentCrop)\n",
        "    # Resize image to (45,45)\n",
        "    test_image = cv2.resize(currentCrop, (45,45), interpolation = cv2.INTER_AREA)\n",
        "    #change to PIL format\n",
        "    # test_image  = cropped_image\n",
        "    test_image = image.img_to_array(test_image) \n",
        "    test_image = np.expand_dims(test_image , axis = 0) #extra dimension to batch\n",
        "    result = global_model.predict(test_image)\n",
        "    result = lb.inverse_transform(result)\n",
        "    result1 = \"\".join(str(e) for e in result)\n",
        "    predictions.append(result1)\n",
        "    print(predictions)\n",
        "    cv2.putText(img_copy ,result1, (int(rectX), int(rectY)-5 ),cv2.FONT_HERSHEY_SIMPLEX,1,(0,0,255),1)\n",
        "    cv2_imshow(currentCrop)\n",
        "    # img_copy = cv2.resize(img_copy, (100,100), interpolation = cv2.INTER_AREA)\n",
        "    # cv2_imshow(img_copy)\n",
        "    plt.imshow(img_copy, cmap = 'gray')\n",
        "    plt.show()\n",
        "\n",
        "    cv2.waitKey(0)\n",
        "pred = \"\".join(str(e) for e in predictions)\n",
        "print(eval(pred))"
      ]
    },
    {
      "cell_type": "markdown",
      "metadata": {
        "id": "i5KQJ-PNf31w"
      },
      "source": [
        "## Model Evaluation Metrics\n"
      ]
    },
    {
      "cell_type": "code",
      "execution_count": null,
      "metadata": {
        "colab": {
          "base_uri": "https://localhost:8080/"
        },
        "id": "cGHDx_4p9WBy",
        "outputId": "6dc578fe-f0b8-43bd-f45d-1abe58fd69b4"
      },
      "outputs": [
        {
          "name": "stdout",
          "output_type": "stream",
          "text": [
            "[[1.62797875e-09 1.34542990e-08 6.08463836e-07 ... 1.50830513e-08\n",
            "  8.72028036e-13 9.47508131e-12]\n",
            " [2.33303144e-04 9.08543766e-01 4.95233544e-05 ... 6.23217147e-06\n",
            "  4.78536967e-05 2.55212854e-07]\n",
            " [3.73847166e-13 6.90111923e-09 4.96726306e-11 ... 1.04268620e-04\n",
            "  7.82541133e-12 5.85806794e-12]\n",
            " ...\n",
            " [2.08677022e-08 4.83069243e-07 1.06348692e-04 ... 5.15243388e-04\n",
            "  1.07109925e-10 5.27016208e-11]\n",
            " [9.50727148e-23 1.29899086e-12 2.13343943e-11 ... 2.65481456e-11\n",
            "  9.87003054e-21 2.04515091e-20]\n",
            " [2.13788386e-18 6.09139974e-08 2.90005487e-13 ... 2.69836491e-08\n",
            "  4.84405708e-14 7.58452952e-15]]\n",
            "['-' '(' 'X' ... '2' 'sin' 'b']\n"
          ]
        }
      ],
      "source": [
        "y_pred  = global_model.predict(X_test)\n",
        "# y_pred = np.argmax(y_pred,axis=1)\n",
        "print(y_pred)\n",
        "y_pred = lb.inverse_transform(y_pred)\n",
        "print(y_pred)"
      ]
    },
    {
      "cell_type": "code",
      "execution_count": null,
      "metadata": {
        "colab": {
          "base_uri": "https://localhost:8080/"
        },
        "id": "9zgldhxd9xY9",
        "outputId": "601e8edf-7a85-4b52-e589-2e0ef5ed275d"
      },
      "outputs": [
        {
          "name": "stdout",
          "output_type": "stream",
          "text": [
            "[[0 0 0 ... 0 0 0]\n",
            " [0 1 0 ... 0 0 0]\n",
            " [0 0 0 ... 0 0 0]\n",
            " ...\n",
            " [0 0 0 ... 0 0 0]\n",
            " [0 0 0 ... 0 0 0]\n",
            " [0 0 0 ... 0 0 0]]\n",
            "['-' '(' 'times' ... '2' 'sin' 'b']\n"
          ]
        }
      ],
      "source": [
        "y_test1 = y_test.copy()\n",
        "print(y_test1)\n",
        "# y_test1 = lb.inverse_transform(y_test1)\n",
        "y_test1 = lb.inverse_transform(y_test1)\n",
        "print(y_test1)"
      ]
    },
    {
      "cell_type": "code",
      "execution_count": null,
      "metadata": {
        "colab": {
          "base_uri": "https://localhost:8080/"
        },
        "id": "1iFRxqsyf7rR",
        "outputId": "1d6aa44d-3ed7-4c81-a23e-c2d3bd243a2d"
      },
      "outputs": [
        {
          "name": "stdout",
          "output_type": "stream",
          "text": [
            "(81, 81)\n"
          ]
        }
      ],
      "source": [
        "# Confusion Matrix\n",
        "from sklearn.metrics import confusion_matrix\n",
        "cm = confusion_matrix(y_test1,y_pred)\n"
      ]
    },
    {
      "cell_type": "code",
      "execution_count": null,
      "metadata": {
        "id": "H9ryRTSs9hmE"
      },
      "outputs": [],
      "source": [
        "import warnings\n",
        "warnings.filterwarnings('always')\n",
        "from sklearn.metrics import precision_recall_fscore_support"
      ]
    },
    {
      "cell_type": "code",
      "execution_count": null,
      "metadata": {
        "colab": {
          "base_uri": "https://localhost:8080/"
        },
        "id": "duuU9k9_Xhw_",
        "outputId": "c7a42ec7-5d6c-4cb0-9209-7561ae8be61b"
      },
      "outputs": [
        {
          "name": "stdout",
          "output_type": "stream",
          "text": [
            "Precision: 0.901\n",
            " Recall: 0.909\n",
            " fscore: 0.902\n",
            " Support: None\n",
            "\n"
          ]
        },
        {
          "name": "stderr",
          "output_type": "stream",
          "text": [
            "/usr/local/lib/python3.7/dist-packages/sklearn/metrics/_classification.py:1318: UndefinedMetricWarning: Precision and F-score are ill-defined and being set to 0.0 in labels with no predicted samples. Use `zero_division` parameter to control this behavior.\n",
            "  _warn_prf(average, modifier, msg_start, len(result))\n"
          ]
        }
      ],
      "source": [
        "precision , recall , fscore , support = precision_recall_fscore_support(y_test1,y_pred , average='weighted')\n",
        "print(\"Precision: {:.3f}\\n Recall: {:.3f}\\n fscore: {:.3f}\\n Support: {}\\n\".format(precision , recall , fscore , support))"
      ]
    },
    {
      "cell_type": "code",
      "execution_count": null,
      "metadata": {
        "id": "yab4zs_IfLEA"
      },
      "outputs": [],
      "source": [
        "labels = ['!','(',')','+',',','-','0','1','2','3','4','5','6','7','8','9','=','A','C',\n",
        " 'Delta','G','H','M','N','R','S','T','X','[',']','alpha','ascii_124','b',\n",
        " 'beta','cos','d','div','e','exists','f','forall','forward_slash','gamma','geq','gt',\n",
        " 'i','in','infty','int','j','k','l','lambda','ldots','leq','lim','log','lt','mu',\n",
        " 'neq','o','p','phi','pi','pm',\n",
        "#  'prime',\n",
        " 'q','rightarrow','sigma','sin','sqrt','sum','tan','theta','times','u','v','w','y','z','{','}']"
      ]
    },
    {
      "cell_type": "code",
      "execution_count": null,
      "metadata": {
        "id": "CKgLa3GGZsRl"
      },
      "outputs": [],
      "source": [
        "# import seaborn as sns\n",
        "# import pandas as pd\n",
        "# import matplotlib.pyplot as plt\n",
        "\n",
        "# df_cm = pd.DataFrame(cm, index = [i for i in labels],\n",
        "#                   columns = [i for i in labels])\n",
        "# plt.figure(figsize = (30,30))\n",
        "# sns.heatmap(df_cm, annot=True , cmap = \"Blues\")"
      ]
    },
    {
      "cell_type": "code",
      "execution_count": null,
      "metadata": {
        "colab": {
          "base_uri": "https://localhost:8080/",
          "height": 1000
        },
        "id": "nFwzTBMZihMg",
        "outputId": "8e48178b-fbc5-4afc-befb-0d7895183c49"
      },
      "outputs": [
        {
          "data": {
            "image/png": "[encoded data removed]",
            "text/plain": [
              "<Figure size 1440x1440 with 2 Axes>"
            ]
          },
          "metadata": {},
          "output_type": "display_data"
        }
      ],
      "source": [
        "import matplotlib.pyplot as plt\n",
        "\n",
        "plt.figure(figsize = (20,20))\n",
        "plt.imshow(cm, cmap=plt.cm.Blues_r)\n",
        "plt.xlabel(\"Predicted labels\")\n",
        "plt.ylabel(\"True labels\")\n",
        "plt.xticks([], [])\n",
        "plt.yticks([], [])\n",
        "plt.title('Confusion matrix ')\n",
        "plt.colorbar()\n",
        "plt.show()"
      ]
    },
    {
      "cell_type": "code",
      "execution_count": null,
      "metadata": {
        "id": "aUkQw_xGCPHi"
      },
      "outputs": [],
      "source": [
        "# import numpy as np\n",
        "# import matplotlib.pyplot as plt\n",
        "# from matplotlib.animation import FuncAnimation\n",
        "# from IPython.display import HTML\n",
        "# x_data = []\n",
        "# y_data = []\n",
        "\n",
        "# fig, ax = plt.subplots()\n",
        "# ax.set_xlim(0,20)\n",
        "# ax.set_ylim(0, 0.95)\n",
        "# line, = ax.plot(0, 0)\n",
        "# arr = list(range(0, len(global_acc_list)))\n",
        "# def animation_frame(i):\n",
        "#   x_data = arr[:i]\n",
        "#   y_data = global_acc_list[:i]\n",
        "\n",
        "#   line.set_xdata(x_data)\n",
        "#   line.set_ydata(y_data)\n",
        "\t\n",
        "#   return line, \n",
        "# animation = FuncAnimation(fig, func=animation_frame, frames = 100, interval=40 , blit= True)\n",
        "# HTML(animation.to_html5_video())"
      ]
    },
    {
      "cell_type": "code",
      "execution_count": null,
      "metadata": {
        "colab": {
          "base_uri": "https://localhost:8080/",
          "height": 298
        },
        "id": "yZN-NQ9xYaj1",
        "outputId": "9c81ff7d-ee55-4c11-8ba2-a8f17efe01ca"
      },
      "outputs": [
        {
          "name": "stdout",
          "output_type": "stream",
          "text": [
            "IID | total comm rounds 20\n"
          ]
        },
        {
          "data": {
            "image/png": "[encoded data removed]",
            "text/plain": [
              "<Figure size 1080x288 with 2 Axes>"
            ]
          },
          "metadata": {},
          "output_type": "display_data"
        }
      ],
      "source": [
        "# IID \n",
        "import matplotlib.pyplot as plt\n",
        "plt.figure(figsize=(15,4))\n",
        "plt.subplot(121)\n",
        "plt.title(\"IID | total comm rounds: {}\".format(len(global_acc_list)))\n",
        "plt.plot(list(range(0,len(global_loss_list))), global_loss_list ,  label = \"global_loss\") \n",
        "plt.legend()\n",
        "plt.subplot(122)\n",
        "plt.title(\"IID | total comm rounds: {}\".format(len(global_acc_list)))\n",
        "plt.plot(list(range(0,len(global_acc_list))), global_acc_list , label = 'global_accuracy' , color = 'orange')\n",
        "plt.legend()\n",
        "print('IID | total comm rounds', len(global_acc_list))"
      ]
    },
    {
      "cell_type": "code",
      "execution_count": null,
      "metadata": {
        "id": "UF10q5RjYaj2"
      },
      "outputs": [],
      "source": [
        "iid_df = pd.DataFrame(list(zip(global_acc_list, global_loss_list)), columns =['global_acc_list', 'global_loss_list'])\n",
        "iid_df.to_csv('IID.csv',index=False)"
      ]
    },
    {
      "cell_type": "markdown",
      "metadata": {
        "id": "EDxBPCz0Yaj3"
      },
      "source": [
        "### Non-IID"
      ]
    },
    {
      "cell_type": "code",
      "execution_count": null,
      "metadata": {
        "id": "2ULRv0iKlWRd"
      },
      "outputs": [],
      "source": [
        "def batch_data(data_shard, bs=32):\n",
        "    '''Takes in a clients data shard and create a tfds object off it\n",
        "    args:\n",
        "        shard: a data, label constituting a client's data shard\n",
        "        bs:batch size\n",
        "    return:\n",
        "        tfds object'''\n",
        "    #seperate shard into data and labels lists\n",
        "    data, label = zip(*data_shard)\n",
        "    # dataset = tf.data.Dataset.from_tensor_slices(list(data), list(label))\n",
        "    dataset = tf.data.Dataset.from_tensor_slices((list(data), list(label)))\n",
        "    return dataset.shuffle(len(label)).batch(bs)"
      ]
    },
    {
      "cell_type": "code",
      "execution_count": null,
      "metadata": {
        "id": "JfvnvItPYaj4"
      },
      "outputs": [],
      "source": [
        "def create_clients(image_list, label_list, num_clients=100, initial='clients'):\n",
        "  ''' return: a dictionary with keys clients' names and value as \n",
        "              data shards - tuple of images and label lists.\n",
        "      args: \n",
        "          image_list: a list of numpy arrays of training images\n",
        "          label_list:a list of binarized labels for each image\n",
        "          num_client: number of fedrated members (clients)\n",
        "          initials: the clients'name prefix, e.g, clients_1 \n",
        "          \n",
        "  '''\n",
        "\n",
        "  #create a list of client names\n",
        "  client_names = ['{}_{}'.format(initial, i+1) for i in range(num_clients)]\n",
        "\n",
        "  #randomize the data\n",
        "  # data = list(zip(image_list, label_list))\n",
        "  # random.shuffle(data)  # <- IID\n",
        "  \n",
        "  # sort data for non-iid\n",
        "  max_y = np.argmax(label_list, axis=1)\n",
        "  sorted_zip = sorted(zip(max_y, label_list, image_list), key=lambda x: x[0])\n",
        "  data = [(x,y) for _,y,x in sorted_zip]\n",
        "\n",
        "  #shard data and place at each client\n",
        "  size = len(data)//num_clients\n",
        "  shards = [data[i:i + size] for i in range(0, size*num_clients, size)]\n",
        "\n",
        "  #number of clients must equal number of shards\n",
        "  # assert(len(shards) == len(client_names))\n",
        "\n",
        "  return {client_names[i] : shards[i] for i in range(len(client_names))} "
      ]
    },
    {
      "cell_type": "code",
      "execution_count": null,
      "metadata": {
        "colab": {
          "base_uri": "https://localhost:8080/"
        },
        "id": "bhSwtmMqYaj6",
        "outputId": "73369599-0ccb-4e7d-badf-c7fbdd5742f7"
      },
      "outputs": [
        {
          "data": {
            "text/plain": [
              "(67644, 7517, 67644, 7517)"
            ]
          },
          "execution_count": 63,
          "metadata": {},
          "output_type": "execute_result"
        }
      ],
      "source": [
        "len(X_train), len(X_test), len(y_train), len(y_test)"
      ]
    },
    {
      "cell_type": "code",
      "execution_count": null,
      "metadata": {
        "id": "2WRvvt1uYaj6"
      },
      "outputs": [],
      "source": [
        "#create clients\n",
        "clients = create_clients(X_train, y_train, num_clients=10, initial='client')"
      ]
    },
    {
      "cell_type": "code",
      "execution_count": null,
      "metadata": {
        "id": "lS4Hr2cSYaj7"
      },
      "outputs": [],
      "source": [
        "#process and batch the training data for each client\n",
        "clients_batched = dict()\n",
        "for (client_name, data) in clients.items():\n",
        "    clients_batched[client_name] = batch_data(data)\n",
        "    \n",
        "#process and batch the test set  \n",
        "test_batched = tf.data.Dataset.from_tensor_slices((X_test, y_test)).batch(len(y_test))"
      ]
    },
    {
      "cell_type": "code",
      "execution_count": null,
      "metadata": {
        "id": "HuL63pOIYaj7"
      },
      "outputs": [],
      "source": [
        "comms_round = 20\n",
        "loss='categorical_crossentropy'\n",
        "metrics = ['accuracy']\n",
        "optimizer  = 'adam'\n",
        "  "
      ]
    },
    {
      "cell_type": "code",
      "execution_count": null,
      "metadata": {
        "id": "dyz5qkwUYaj7"
      },
      "outputs": [],
      "source": [
        "#initialize global model\n",
        "\n",
        "build_shape = [45,45,3] # Shape of Image\n",
        "classes = 82\n",
        "global_model = create_keras_model(build_shape , classes)\n",
        "global_acc_list = []\n",
        "global_loss_list = []"
      ]
    },
    {
      "cell_type": "code",
      "execution_count": null,
      "metadata": {
        "colab": {
          "base_uri": "https://localhost:8080/"
        },
        "id": "T5MNwlaCYaj8",
        "outputId": "83dad4fa-2b8a-452c-aa87-5fcbfc8ed79d"
      },
      "outputs": [
        {
          "name": "stdout",
          "output_type": "stream",
          "text": [
            "['client_1', 'client_2', 'client_3', 'client_4', 'client_5', 'client_6', 'client_7', 'client_8', 'client_9', 'client_10']\n",
            "212/212 [==============================] - 3s 9ms/step - loss: 0.3563 - accuracy: 0.8940\n",
            "212/212 [==============================] - 3s 9ms/step - loss: 0.2770 - accuracy: 0.9109\n",
            "212/212 [==============================] - 3s 11ms/step - loss: 0.2929 - accuracy: 0.9141\n",
            "212/212 [==============================] - 3s 9ms/step - loss: 0.3533 - accuracy: 0.8739\n",
            "212/212 [==============================] - 3s 9ms/step - loss: 1.1590 - accuracy: 0.6348\n",
            "212/212 [==============================] - 3s 9ms/step - loss: 0.8608 - accuracy: 0.7442\n",
            "212/212 [==============================] - 3s 9ms/step - loss: 0.6784 - accuracy: 0.8004\n",
            "212/212 [==============================] - 3s 9ms/step - loss: 1.3600 - accuracy: 0.6200\n",
            "212/212 [==============================] - 3s 9ms/step - loss: 1.7945 - accuracy: 0.5171\n",
            "212/212 [==============================] - 3s 9ms/step - loss: 1.1777 - accuracy: 0.6600\n",
            "comm_round: 0 | global_acc: 5.654% | global_loss: 4.40455436706543\n",
            "['client_1', 'client_2', 'client_3', 'client_4', 'client_5', 'client_6', 'client_7', 'client_8', 'client_9', 'client_10']\n",
            "212/212 [==============================] - 2s 8ms/step - loss: 0.2286 - accuracy: 0.9450\n",
            "212/212 [==============================] - 3s 8ms/step - loss: 0.1556 - accuracy: 0.9630\n",
            "212/212 [==============================] - 3s 9ms/step - loss: 0.1475 - accuracy: 0.9691\n",
            "212/212 [==============================] - 3s 9ms/step - loss: 0.1993 - accuracy: 0.9446\n",
            "212/212 [==============================] - 3s 9ms/step - loss: 0.8036 - accuracy: 0.7640\n",
            "212/212 [==============================] - 3s 9ms/step - loss: 0.6738 - accuracy: 0.8088\n",
            "212/212 [==============================] - 3s 9ms/step - loss: 0.5049 - accuracy: 0.8514\n",
            "212/212 [==============================] - 3s 9ms/step - loss: 1.0753 - accuracy: 0.6946\n",
            "212/212 [==============================] - 3s 9ms/step - loss: 1.3261 - accuracy: 0.6438\n",
            "212/212 [==============================] - 3s 9ms/step - loss: 0.7764 - accuracy: 0.7812\n",
            "comm_round: 1 | global_acc: 24.385% | global_loss: 4.3903117179870605\n",
            "['client_1', 'client_2', 'client_3', 'client_4', 'client_5', 'client_6', 'client_7', 'client_8', 'client_9', 'client_10']\n",
            "212/212 [==============================] - 3s 8ms/step - loss: 0.1491 - accuracy: 0.9626\n",
            "212/212 [==============================] - 3s 8ms/step - loss: 0.1010 - accuracy: 0.9759\n",
            "212/212 [==============================] - 2s 8ms/step - loss: 0.0961 - accuracy: 0.9809\n",
            "212/212 [==============================] - 2s 8ms/step - loss: 0.1260 - accuracy: 0.9675\n",
            "212/212 [==============================] - 3s 8ms/step - loss: 0.5883 - accuracy: 0.8241\n",
            "212/212 [==============================] - 2s 8ms/step - loss: 0.5014 - accuracy: 0.8547\n",
            "212/212 [==============================] - 3s 9ms/step - loss: 0.4256 - accuracy: 0.8800\n",
            "212/212 [==============================] - 3s 9ms/step - loss: 0.8791 - accuracy: 0.7558\n",
            "212/212 [==============================] - 3s 9ms/step - loss: 1.1081 - accuracy: 0.7012\n",
            "212/212 [==============================] - 3s 9ms/step - loss: 0.6526 - accuracy: 0.8124\n",
            "comm_round: 2 | global_acc: 28.150% | global_loss: 4.3578901290893555\n",
            "['client_1', 'client_2', 'client_3', 'client_4', 'client_5', 'client_6', 'client_7', 'client_8', 'client_9', 'client_10']\n",
            "212/212 [==============================] - 3s 8ms/step - loss: 0.1273 - accuracy: 0.9698\n",
            "212/212 [==============================] - 3s 8ms/step - loss: 0.0741 - accuracy: 0.9820\n",
            "212/212 [==============================] - 2s 8ms/step - loss: 0.0779 - accuracy: 0.9831\n",
            "212/212 [==============================] - 2s 8ms/step - loss: 0.0993 - accuracy: 0.9755\n",
            "212/212 [==============================] - 2s 8ms/step - loss: 0.5189 - accuracy: 0.8517\n",
            "212/212 [==============================] - 2s 8ms/step - loss: 0.4236 - accuracy: 0.8777\n",
            "212/212 [==============================] - 2s 8ms/step - loss: 0.3506 - accuracy: 0.8956\n",
            "212/212 [==============================] - 2s 8ms/step - loss: 0.7564 - accuracy: 0.7853\n",
            "212/212 [==============================] - 2s 8ms/step - loss: 0.9458 - accuracy: 0.7416\n",
            "212/212 [==============================] - 2s 8ms/step - loss: 0.5338 - accuracy: 0.8474\n",
            "comm_round: 3 | global_acc: 33.112% | global_loss: 4.304141521453857\n",
            "['client_1', 'client_2', 'client_3', 'client_4', 'client_5', 'client_6', 'client_7', 'client_8', 'client_9', 'client_10']\n",
            "212/212 [==============================] - 3s 8ms/step - loss: 0.1107 - accuracy: 0.9740\n",
            "212/212 [==============================] - 3s 9ms/step - loss: 0.0617 - accuracy: 0.9848\n",
            "212/212 [==============================] - 3s 9ms/step - loss: 0.0785 - accuracy: 0.9824\n",
            "212/212 [==============================] - 3s 9ms/step - loss: 0.0872 - accuracy: 0.9796\n",
            "212/212 [==============================] - 3s 9ms/step - loss: 0.4355 - accuracy: 0.8732\n",
            "212/212 [==============================] - 3s 9ms/step - loss: 0.3846 - accuracy: 0.8860\n",
            "212/212 [==============================] - 3s 9ms/step - loss: 0.3109 - accuracy: 0.9095\n",
            "212/212 [==============================] - 3s 9ms/step - loss: 0.6512 - accuracy: 0.8195\n",
            "212/212 [==============================] - 3s 9ms/step - loss: 0.8208 - accuracy: 0.7737\n",
            "212/212 [==============================] - 3s 9ms/step - loss: 0.4745 - accuracy: 0.8640\n",
            "comm_round: 4 | global_acc: 34.947% | global_loss: 4.266790390014648\n",
            "['client_1', 'client_2', 'client_3', 'client_4', 'client_5', 'client_6', 'client_7', 'client_8', 'client_9', 'client_10']\n",
            "212/212 [==============================] - 2s 8ms/step - loss: 0.0983 - accuracy: 0.9777\n",
            "212/212 [==============================] - 2s 8ms/step - loss: 0.0547 - accuracy: 0.9861\n",
            "212/212 [==============================] - 2s 8ms/step - loss: 0.0565 - accuracy: 0.9877\n",
            "212/212 [==============================] - 2s 8ms/step - loss: 0.0682 - accuracy: 0.9820\n",
            "212/212 [==============================] - 2s 8ms/step - loss: 0.3814 - accuracy: 0.8876\n",
            "212/212 [==============================] - 2s 8ms/step - loss: 0.3480 - accuracy: 0.8993\n",
            "212/212 [==============================] - 3s 8ms/step - loss: 0.2658 - accuracy: 0.9242\n",
            "212/212 [==============================] - 3s 9ms/step - loss: 0.6016 - accuracy: 0.8289\n",
            "212/212 [==============================] - 3s 9ms/step - loss: 0.7629 - accuracy: 0.7899\n",
            "212/212 [==============================] - 3s 9ms/step - loss: 0.4066 - accuracy: 0.8878\n",
            "comm_round: 5 | global_acc: 41.027% | global_loss: 4.196011066436768\n",
            "['client_1', 'client_2', 'client_3', 'client_4', 'client_5', 'client_6', 'client_7', 'client_8', 'client_9', 'client_10']\n",
            "212/212 [==============================] - 3s 8ms/step - loss: 0.0808 - accuracy: 0.9802\n",
            "212/212 [==============================] - 3s 8ms/step - loss: 0.0470 - accuracy: 0.9880\n",
            "212/212 [==============================] - 2s 8ms/step - loss: 0.0489 - accuracy: 0.9899\n",
            "212/212 [==============================] - 2s 8ms/step - loss: 0.0570 - accuracy: 0.9851\n",
            "212/212 [==============================] - 3s 8ms/step - loss: 0.3496 - accuracy: 0.8956\n",
            "212/212 [==============================] - 2s 8ms/step - loss: 0.3132 - accuracy: 0.9063\n",
            "212/212 [==============================] - 2s 8ms/step - loss: 0.2376 - accuracy: 0.9326\n",
            "212/212 [==============================] - 2s 8ms/step - loss: 0.5424 - accuracy: 0.8446\n",
            "212/212 [==============================] - 3s 8ms/step - loss: 0.6724 - accuracy: 0.8121\n",
            "212/212 [==============================] - 2s 8ms/step - loss: 0.3798 - accuracy: 0.8903\n",
            "comm_round: 6 | global_acc: 44.845% | global_loss: 4.159544467926025\n",
            "['client_1', 'client_2', 'client_3', 'client_4', 'client_5', 'client_6', 'client_7', 'client_8', 'client_9', 'client_10']\n",
            "212/212 [==============================] - 3s 8ms/step - loss: 0.0763 - accuracy: 0.9830\n",
            "212/212 [==============================] - 3s 9ms/step - loss: 0.0458 - accuracy: 0.9885\n",
            "212/212 [==============================] - 3s 9ms/step - loss: 0.0446 - accuracy: 0.9902\n",
            "212/212 [==============================] - 3s 9ms/step - loss: 0.0507 - accuracy: 0.9871\n",
            "212/212 [==============================] - 3s 9ms/step - loss: 0.3143 - accuracy: 0.9061\n",
            "212/212 [==============================] - 3s 9ms/step - loss: 0.2858 - accuracy: 0.9111\n",
            "212/212 [==============================] - 3s 9ms/step - loss: 0.2117 - accuracy: 0.9385\n",
            "212/212 [==============================] - 3s 9ms/step - loss: 0.5093 - accuracy: 0.8547\n",
            "212/212 [==============================] - 3s 9ms/step - loss: 0.6293 - accuracy: 0.8250\n",
            "212/212 [==============================] - 3s 9ms/step - loss: 0.3377 - accuracy: 0.9024\n",
            "comm_round: 7 | global_acc: 47.186% | global_loss: 4.1432976722717285\n",
            "['client_1', 'client_2', 'client_3', 'client_4', 'client_5', 'client_6', 'client_7', 'client_8', 'client_9', 'client_10']\n",
            "212/212 [==============================] - 3s 8ms/step - loss: 0.0680 - accuracy: 0.9834\n",
            "212/212 [==============================] - 2s 8ms/step - loss: 0.0407 - accuracy: 0.9910\n",
            "212/212 [==============================] - 3s 8ms/step - loss: 0.0468 - accuracy: 0.9901\n",
            "212/212 [==============================] - 3s 8ms/step - loss: 0.0490 - accuracy: 0.9870\n",
            "212/212 [==============================] - 4s 8ms/step - loss: 0.2844 - accuracy: 0.9148\n",
            "212/212 [==============================] - 3s 9ms/step - loss: 0.2490 - accuracy: 0.9212\n",
            "212/212 [==============================] - 3s 9ms/step - loss: 0.1990 - accuracy: 0.9426\n",
            "212/212 [==============================] - 3s 9ms/step - loss: 0.4753 - accuracy: 0.8637\n",
            "212/212 [==============================] - 3s 9ms/step - loss: 0.5788 - accuracy: 0.8371\n",
            "212/212 [==============================] - 3s 9ms/step - loss: 0.2958 - accuracy: 0.9137\n",
            "comm_round: 8 | global_acc: 49.647% | global_loss: 4.101800441741943\n",
            "['client_1', 'client_2', 'client_3', 'client_4', 'client_5', 'client_6', 'client_7', 'client_8', 'client_9', 'client_10']\n",
            "212/212 [==============================] - 2s 8ms/step - loss: 0.0687 - accuracy: 0.9843\n",
            "212/212 [==============================] - 2s 8ms/step - loss: 0.0334 - accuracy: 0.9917\n",
            "212/212 [==============================] - 3s 8ms/step - loss: 0.0352 - accuracy: 0.9923\n",
            "212/212 [==============================] - 2s 8ms/step - loss: 0.0488 - accuracy: 0.9868\n",
            "212/212 [==============================] - 2s 8ms/step - loss: 0.2719 - accuracy: 0.9185\n",
            "212/212 [==============================] - 2s 8ms/step - loss: 0.2475 - accuracy: 0.9208\n",
            "212/212 [==============================] - 2s 8ms/step - loss: 0.1850 - accuracy: 0.9443\n",
            "212/212 [==============================] - 2s 8ms/step - loss: 0.4570 - accuracy: 0.8668\n",
            "212/212 [==============================] - 2s 8ms/step - loss: 0.5307 - accuracy: 0.8510\n",
            "212/212 [==============================] - 2s 8ms/step - loss: 0.2672 - accuracy: 0.9245\n",
            "comm_round: 9 | global_acc: 54.038% | global_loss: 4.072140216827393\n",
            "['client_1', 'client_2', 'client_3', 'client_4', 'client_5', 'client_6', 'client_7', 'client_8', 'client_9', 'client_10']\n",
            "212/212 [==============================] - 3s 8ms/step - loss: 0.0585 - accuracy: 0.9863\n",
            "212/212 [==============================] - 2s 8ms/step - loss: 0.0378 - accuracy: 0.9911\n",
            "212/212 [==============================] - 3s 8ms/step - loss: 0.0322 - accuracy: 0.9936\n",
            "212/212 [==============================] - 2s 8ms/step - loss: 0.0420 - accuracy: 0.9886\n",
            "212/212 [==============================] - 3s 8ms/step - loss: 0.2594 - accuracy: 0.9221\n",
            "212/212 [==============================] - 2s 8ms/step - loss: 0.2397 - accuracy: 0.9209\n",
            "212/212 [==============================] - 3s 8ms/step - loss: 0.1820 - accuracy: 0.9468\n",
            "212/212 [==============================] - 3s 8ms/step - loss: 0.4128 - accuracy: 0.8814\n",
            "212/212 [==============================] - 2s 8ms/step - loss: 0.5419 - accuracy: 0.8514\n",
            "212/212 [==============================] - 3s 8ms/step - loss: 0.2580 - accuracy: 0.9249\n",
            "comm_round: 10 | global_acc: 51.856% | global_loss: 4.063697814941406\n",
            "['client_1', 'client_2', 'client_3', 'client_4', 'client_5', 'client_6', 'client_7', 'client_8', 'client_9', 'client_10']\n",
            "212/212 [==============================] - 3s 8ms/step - loss: 0.0569 - accuracy: 0.9863\n",
            "212/212 [==============================] - 2s 8ms/step - loss: 0.0387 - accuracy: 0.9904\n",
            "212/212 [==============================] - 2s 8ms/step - loss: 0.0365 - accuracy: 0.9923\n",
            "212/212 [==============================] - 3s 8ms/step - loss: 0.0404 - accuracy: 0.9886\n",
            "212/212 [==============================] - 3s 9ms/step - loss: 0.2298 - accuracy: 0.9295\n",
            "212/212 [==============================] - 3s 9ms/step - loss: 0.2149 - accuracy: 0.9339\n",
            "212/212 [==============================] - 3s 9ms/step - loss: 0.1657 - accuracy: 0.9525\n",
            "212/212 [==============================] - 3s 9ms/step - loss: 0.4050 - accuracy: 0.8785\n",
            "212/212 [==============================] - 3s 9ms/step - loss: 0.4935 - accuracy: 0.8630\n",
            "212/212 [==============================] - 3s 9ms/step - loss: 0.2472 - accuracy: 0.9268\n",
            "comm_round: 11 | global_acc: 55.594% | global_loss: 4.052562713623047\n",
            "['client_1', 'client_2', 'client_3', 'client_4', 'client_5', 'client_6', 'client_7', 'client_8', 'client_9', 'client_10']\n",
            "212/212 [==============================] - 3s 8ms/step - loss: 0.0575 - accuracy: 0.9867\n",
            "212/212 [==============================] - 3s 8ms/step - loss: 0.0367 - accuracy: 0.9919\n",
            "212/212 [==============================] - 2s 8ms/step - loss: 0.0377 - accuracy: 0.9929\n",
            "212/212 [==============================] - 2s 8ms/step - loss: 0.0378 - accuracy: 0.9897\n",
            "212/212 [==============================] - 2s 8ms/step - loss: 0.2121 - accuracy: 0.9363\n",
            "212/212 [==============================] - 2s 8ms/step - loss: 0.2194 - accuracy: 0.9302\n",
            "212/212 [==============================] - 2s 8ms/step - loss: 0.1627 - accuracy: 0.9540\n",
            "212/212 [==============================] - 2s 8ms/step - loss: 0.3683 - accuracy: 0.8922\n",
            "212/212 [==============================] - 3s 8ms/step - loss: 0.4815 - accuracy: 0.8658\n",
            "212/212 [==============================] - 3s 9ms/step - loss: 0.2270 - accuracy: 0.9351\n",
            "comm_round: 12 | global_acc: 58.268% | global_loss: 4.021512985229492\n",
            "['client_1', 'client_2', 'client_3', 'client_4', 'client_5', 'client_6', 'client_7', 'client_8', 'client_9', 'client_10']\n",
            "212/212 [==============================] - 2s 8ms/step - loss: 0.0519 - accuracy: 0.9867\n",
            "212/212 [==============================] - 2s 8ms/step - loss: 0.0342 - accuracy: 0.9931\n",
            "212/212 [==============================] - 3s 8ms/step - loss: 0.0332 - accuracy: 0.9933\n",
            "212/212 [==============================] - 3s 8ms/step - loss: 0.0390 - accuracy: 0.9902\n",
            "212/212 [==============================] - 2s 8ms/step - loss: 0.1986 - accuracy: 0.9385\n",
            "212/212 [==============================] - 3s 8ms/step - loss: 0.1939 - accuracy: 0.9388\n",
            "212/212 [==============================] - 2s 8ms/step - loss: 0.1637 - accuracy: 0.9522\n",
            "212/212 [==============================] - 2s 8ms/step - loss: 0.3546 - accuracy: 0.8964\n",
            "212/212 [==============================] - 3s 8ms/step - loss: 0.4499 - accuracy: 0.8729\n",
            "212/212 [==============================] - 3s 8ms/step - loss: 0.2219 - accuracy: 0.9332\n",
            "comm_round: 13 | global_acc: 57.496% | global_loss: 4.017014026641846\n",
            "['client_1', 'client_2', 'client_3', 'client_4', 'client_5', 'client_6', 'client_7', 'client_8', 'client_9', 'client_10']\n",
            "212/212 [==============================] - 2s 8ms/step - loss: 0.0507 - accuracy: 0.9886\n",
            "212/212 [==============================] - 2s 8ms/step - loss: 0.0345 - accuracy: 0.9923\n",
            "212/212 [==============================] - 3s 8ms/step - loss: 0.0313 - accuracy: 0.9931\n",
            "212/212 [==============================] - 3s 9ms/step - loss: 0.0378 - accuracy: 0.9901\n",
            "212/212 [==============================] - 3s 9ms/step - loss: 0.2074 - accuracy: 0.9354\n",
            "212/212 [==============================] - 3s 9ms/step - loss: 0.1907 - accuracy: 0.9413\n",
            "212/212 [==============================] - 3s 9ms/step - loss: 0.1605 - accuracy: 0.9512\n",
            "212/212 [==============================] - 3s 9ms/step - loss: 0.3347 - accuracy: 0.8999\n",
            "212/212 [==============================] - 3s 9ms/step - loss: 0.4021 - accuracy: 0.8884\n",
            "212/212 [==============================] - 3s 9ms/step - loss: 0.2161 - accuracy: 0.9358\n",
            "comm_round: 14 | global_acc: 60.184% | global_loss: 4.003483295440674\n",
            "['client_1', 'client_2', 'client_3', 'client_4', 'client_5', 'client_6', 'client_7', 'client_8', 'client_9', 'client_10']\n",
            "212/212 [==============================] - 3s 8ms/step - loss: 0.0457 - accuracy: 0.9891\n",
            "212/212 [==============================] - 3s 8ms/step - loss: 0.0288 - accuracy: 0.9935\n",
            "212/212 [==============================] - 3s 8ms/step - loss: 0.0295 - accuracy: 0.9936\n",
            "212/212 [==============================] - 3s 8ms/step - loss: 0.0341 - accuracy: 0.9898\n",
            "212/212 [==============================] - 2s 8ms/step - loss: 0.1944 - accuracy: 0.9450\n",
            "212/212 [==============================] - 2s 8ms/step - loss: 0.1733 - accuracy: 0.9483\n",
            "212/212 [==============================] - 2s 8ms/step - loss: 0.1443 - accuracy: 0.9555\n",
            "212/212 [==============================] - 3s 8ms/step - loss: 0.3270 - accuracy: 0.9014\n",
            "212/212 [==============================] - 3s 9ms/step - loss: 0.4127 - accuracy: 0.8788\n",
            "212/212 [==============================] - 3s 9ms/step - loss: 0.2079 - accuracy: 0.9366\n",
            "comm_round: 15 | global_acc: 63.603% | global_loss: 3.967172622680664\n",
            "['client_1', 'client_2', 'client_3', 'client_4', 'client_5', 'client_6', 'client_7', 'client_8', 'client_9', 'client_10']\n",
            "212/212 [==============================] - 3s 8ms/step - loss: 0.0359 - accuracy: 0.9910\n",
            "212/212 [==============================] - 3s 8ms/step - loss: 0.0309 - accuracy: 0.9922\n",
            "212/212 [==============================] - 3s 8ms/step - loss: 0.0299 - accuracy: 0.9923\n",
            "212/212 [==============================] - 3s 8ms/step - loss: 0.0326 - accuracy: 0.9908\n",
            "212/212 [==============================] - 3s 8ms/step - loss: 0.1829 - accuracy: 0.9440\n",
            "212/212 [==============================] - 3s 8ms/step - loss: 0.1773 - accuracy: 0.9462\n",
            "212/212 [==============================] - 3s 8ms/step - loss: 0.1398 - accuracy: 0.9595\n",
            "212/212 [==============================] - 3s 8ms/step - loss: 0.3307 - accuracy: 0.9014\n",
            "212/212 [==============================] - 3s 8ms/step - loss: 0.3717 - accuracy: 0.8944\n",
            "212/212 [==============================] - 3s 8ms/step - loss: 0.1912 - accuracy: 0.9423\n",
            "comm_round: 16 | global_acc: 64.840% | global_loss: 3.942953109741211\n",
            "['client_1', 'client_2', 'client_3', 'client_4', 'client_5', 'client_6', 'client_7', 'client_8', 'client_9', 'client_10']\n",
            "212/212 [==============================] - 3s 8ms/step - loss: 0.0361 - accuracy: 0.9905\n",
            "212/212 [==============================] - 3s 8ms/step - loss: 0.0321 - accuracy: 0.9931\n",
            "212/212 [==============================] - 3s 9ms/step - loss: 0.0272 - accuracy: 0.9944\n",
            "212/212 [==============================] - 3s 9ms/step - loss: 0.0321 - accuracy: 0.9905\n",
            "212/212 [==============================] - 3s 9ms/step - loss: 0.1703 - accuracy: 0.9506\n",
            "212/212 [==============================] - 3s 9ms/step - loss: 0.1708 - accuracy: 0.9450\n",
            "212/212 [==============================] - 3s 9ms/step - loss: 0.1366 - accuracy: 0.9586\n",
            "212/212 [==============================] - 3s 9ms/step - loss: 0.3001 - accuracy: 0.9103\n",
            "212/212 [==============================] - 3s 9ms/step - loss: 0.3665 - accuracy: 0.8965\n",
            "212/212 [==============================] - 3s 9ms/step - loss: 0.1910 - accuracy: 0.9440\n",
            "comm_round: 17 | global_acc: 66.343% | global_loss: 3.94997239112854\n",
            "['client_1', 'client_2', 'client_3', 'client_4', 'client_5', 'client_6', 'client_7', 'client_8', 'client_9', 'client_10']\n",
            "212/212 [==============================] - 3s 8ms/step - loss: 0.0438 - accuracy: 0.9901\n",
            "212/212 [==============================] - 2s 8ms/step - loss: 0.0324 - accuracy: 0.9939\n",
            "212/212 [==============================] - 2s 8ms/step - loss: 0.0258 - accuracy: 0.9948\n",
            "212/212 [==============================] - 3s 8ms/step - loss: 0.0287 - accuracy: 0.9933\n",
            "212/212 [==============================] - 3s 8ms/step - loss: 0.1623 - accuracy: 0.9494\n",
            "212/212 [==============================] - 2s 8ms/step - loss: 0.1652 - accuracy: 0.9491\n",
            "212/212 [==============================] - 2s 8ms/step - loss: 0.1365 - accuracy: 0.9619\n",
            "212/212 [==============================] - 3s 9ms/step - loss: 0.2883 - accuracy: 0.9147\n",
            "212/212 [==============================] - 3s 9ms/step - loss: 0.3517 - accuracy: 0.8955\n",
            "212/212 [==============================] - 3s 9ms/step - loss: 0.1681 - accuracy: 0.9487\n",
            "comm_round: 18 | global_acc: 68.964% | global_loss: 3.916574001312256\n",
            "['client_1', 'client_2', 'client_3', 'client_4', 'client_5', 'client_6', 'client_7', 'client_8', 'client_9', 'client_10']\n",
            "212/212 [==============================] - 3s 8ms/step - loss: 0.0418 - accuracy: 0.9894\n",
            "212/212 [==============================] - 4s 8ms/step - loss: 0.0298 - accuracy: 0.9945\n",
            "212/212 [==============================] - 3s 8ms/step - loss: 0.0309 - accuracy: 0.9936\n",
            "212/212 [==============================] - 3s 8ms/step - loss: 0.0344 - accuracy: 0.9917\n",
            "212/212 [==============================] - 3s 8ms/step - loss: 0.1700 - accuracy: 0.9514\n",
            "212/212 [==============================] - 3s 8ms/step - loss: 0.1535 - accuracy: 0.9493\n",
            "212/212 [==============================] - 3s 8ms/step - loss: 0.1200 - accuracy: 0.9627\n",
            "212/212 [==============================] - 2s 8ms/step - loss: 0.2859 - accuracy: 0.9182\n",
            "212/212 [==============================] - 2s 8ms/step - loss: 0.3440 - accuracy: 0.9001\n",
            "212/212 [==============================] - 3s 8ms/step - loss: 0.1575 - accuracy: 0.9514\n",
            "comm_round: 19 | global_acc: 69.017% | global_loss: 3.910620927810669\n"
          ]
        }
      ],
      "source": [
        "#commence global training loop\n",
        "for comm_round in range(comms_round):\n",
        "            \n",
        "  # get the global model's weights - will serve as the initial weights for all local models\n",
        "  global_weights = global_model.get_weights()\n",
        "\n",
        "  #initial list to collect local model weights after scalling\n",
        "  scaled_local_weight_list = list()\n",
        "\n",
        "  #randomize client data - using keys\n",
        "  # all_client_names = list(clients_batched.keys())\n",
        "          \n",
        "  client_names = list(clients_batched.keys())\n",
        "  print(client_names)\n",
        "  # random.shuffle(client_names)\n",
        "\n",
        "  #loop through each client and create new local model\n",
        "  for client in client_names:\n",
        "    local_model = create_keras_model(build_shape, classes)\n",
        "    local_model.compile(loss=loss, \n",
        "                optimizer=optimizer, \n",
        "                metrics=metrics)\n",
        "\n",
        "    #set local model weight to the weight of the global model\n",
        "    local_model.set_weights(global_weights)\n",
        "\n",
        "    #fit local model with client's data\n",
        "    local_model.fit(clients_batched[client], epochs=1, workers = 8 )\n",
        "      \n",
        "    #scale the model weights and add to list\n",
        "    scaling_factor = 0.1 # weight_scalling_factor(clients_batched, client)\n",
        "    scaled_weights = scale_model_weights(local_model.get_weights(), scaling_factor)\n",
        "    scaled_local_weight_list.append(scaled_weights)\n",
        "    # print(scaled_local_weight_list)\n",
        "      \n",
        "    #clear session to free memory after each communication round\n",
        "    K.clear_session()\n",
        "      \n",
        "  #to get the average over all the local model, we simply take the sum of the scaled weights\n",
        "  average_weights = sum_scaled_weights(scaled_local_weight_list)\n",
        "\n",
        "  #update global model \n",
        "  global_model.set_weights(average_weights)\n",
        "\n",
        "  #test global model and print out metrics after each communications round\n",
        "  for(X_test, Y_test) in test_batched:\n",
        "      global_acc, global_loss = test_model(X_test, Y_test, global_model, comm_round)\n",
        "      global_acc_list.append(global_acc)\n",
        "      global_loss_list.append(global_loss)"
      ]
    },
    {
      "cell_type": "code",
      "execution_count": null,
      "metadata": {
        "colab": {
          "base_uri": "https://localhost:8080/",
          "height": 298
        },
        "id": "E0kP3CxAYaj-",
        "outputId": "705b53f0-eb72-49a6-e7ee-53f76c52b581"
      },
      "outputs": [
        {
          "name": "stdout",
          "output_type": "stream",
          "text": [
            "NON-IID | total comm rounds 20\n"
          ]
        },
        {
          "data": {
            "image/png": "[encoded data removed]",
            "text/plain": [
              "<Figure size 1080x288 with 2 Axes>"
            ]
          },
          "metadata": {},
          "output_type": "display_data"
        }
      ],
      "source": [
        "# NON-IID \n",
        "import matplotlib.pyplot as plt\n",
        "plt.figure(figsize=(15,4))\n",
        "plt.subplot(121)\n",
        "plt.title(\"NON-IID | total comm rounds: {}\".format(len(global_acc_list)))\n",
        "plt.plot(list(range(0,len(global_loss_list))), global_loss_list ,  label = \"global_loss\") \n",
        "plt.legend()\n",
        "plt.subplot(122)\n",
        "plt.title(\"NON-IID | total comm rounds: {}\".format(len(global_acc_list)))\n",
        "plt.plot(list(range(0,len(global_acc_list))), global_acc_list , label = 'global_accuracy' , color = 'orange')\n",
        "plt.legend()\n",
        "print('NON-IID | total comm rounds', len(global_acc_list))"
      ]
    },
    {
      "cell_type": "markdown",
      "source": [
        "## Traing By Solely on CNN for 20 Epochs"
      ],
      "metadata": {
        "id": "kYK4aoe3BgSl"
      }
    },
    {
      "cell_type": "code",
      "execution_count": null,
      "metadata": {
        "id": "YPT8KoHSvq5p"
      },
      "outputs": [],
      "source": [
        "cnn_dataset = tf.data.Dataset.from_tensor_slices((X_train, y_train)).batch(32)"
      ]
    },
    {
      "cell_type": "code",
      "execution_count": null,
      "metadata": {
        "id": "hSQPXYIOwLX6"
      },
      "outputs": [],
      "source": [
        "build_shape = [45,45,3] # Train image Dimensions\n",
        "classes = 82\n",
        "loss='categorical_crossentropy'\n",
        "metrics = ['accuracy']\n",
        "optimizer  = 'adam'   "
      ]
    },
    {
      "cell_type": "code",
      "execution_count": null,
      "metadata": {
        "id": "PQGRIxnEv99K"
      },
      "outputs": [],
      "source": [
        "cnn_model = create_keras_model( build_shape , classes)\n",
        "cnn_model.compile(\n",
        "  loss=loss, \n",
        "  optimizer=optimizer, \n",
        "  metrics=metrics\n",
        ")"
      ]
    },
    {
      "cell_type": "code",
      "execution_count": null,
      "metadata": {
        "colab": {
          "background_save": true,
          "base_uri": "https://localhost:8080/"
        },
        "id": "jD5VL82OxIdq",
        "outputId": "13d65aa0-3452-4a2d-faa4-d16c18f0ee30"
      },
      "outputs": [
        {
          "name": "stdout",
          "output_type": "stream",
          "text": [
            "Epoch 1/20\n",
            "2114/2114 [==============================] - 202s 94ms/step - loss: 1.3969 - accuracy: 0.6450\n",
            "Epoch 2/20\n",
            "2114/2114 [==============================] - 143s 66ms/step - loss: 0.7519 - accuracy: 0.7924\n",
            "Epoch 3/20\n",
            "2114/2114 [==============================] - 143s 66ms/step - loss: 0.6084 - accuracy: 0.8262\n",
            "Epoch 4/20\n",
            "2114/2114 [==============================] - 144s 67ms/step - loss: 0.5286 - accuracy: 0.8472\n",
            "Epoch 5/20\n",
            "2114/2114 [==============================] - 144s 67ms/step - loss: 0.4783 - accuracy: 0.8609\n",
            "Epoch 6/20\n",
            "2114/2114 [==============================] - 144s 67ms/step - loss: 0.4344 - accuracy: 0.8708\n",
            "Epoch 7/20\n",
            "2114/2114 [==============================] - 145s 67ms/step - loss: 0.3990 - accuracy: 0.8808\n",
            "Epoch 8/20\n",
            "2114/2114 [==============================] - 145s 67ms/step - loss: 0.3709 - accuracy: 0.8884\n",
            "Epoch 9/20\n",
            "2114/2114 [==============================] - 144s 67ms/step - loss: 0.3490 - accuracy: 0.8938\n",
            "Epoch 10/20\n",
            "2114/2114 [==============================] - 146s 68ms/step - loss: 0.3269 - accuracy: 0.9001\n",
            "Epoch 11/20\n",
            "2114/2114 [==============================] - 146s 67ms/step - loss: 0.3151 - accuracy: 0.9032\n",
            "Epoch 12/20\n",
            "2114/2114 [==============================] - 146s 68ms/step - loss: 0.2987 - accuracy: 0.9069\n",
            "Epoch 13/20\n",
            "2114/2114 [==============================] - 146s 68ms/step - loss: 0.2819 - accuracy: 0.9118\n",
            "Epoch 14/20\n",
            "2114/2114 [==============================] - 148s 68ms/step - loss: 0.2723 - accuracy: 0.9157\n",
            "Epoch 15/20\n",
            "2114/2114 [==============================] - 148s 68ms/step - loss: 0.2689 - accuracy: 0.9159\n",
            "Epoch 16/20\n",
            "2114/2114 [==============================] - 147s 68ms/step - loss: 0.2548 - accuracy: 0.9198\n",
            "Epoch 17/20\n",
            "2114/2114 [==============================] - 147s 68ms/step - loss: 0.2476 - accuracy: 0.9212\n",
            "Epoch 18/20\n",
            "2114/2114 [==============================] - 147s 68ms/step - loss: 0.2439 - accuracy: 0.9240\n",
            "Epoch 19/20\n",
            "2114/2114 [==============================] - 148s 68ms/step - loss: 0.2345 - accuracy: 0.9257\n",
            "Epoch 20/20\n",
            "2114/2114 [==============================] - 147s 68ms/step - loss: 0.2269 - accuracy: 0.9282\n"
          ]
        },
        {
          "data": {
            "text/plain": [
              "<keras.callbacks.History at 0x7f6659e66210>"
            ]
          },
          "execution_count": null,
          "metadata": {},
          "output_type": "execute_result"
        }
      ],
      "source": [
        "cnn_model.fit(cnn_dataset , epochs = 20)"
      ]
    },
    {
      "cell_type": "code",
      "execution_count": null,
      "metadata": {
        "id": "ubbOlqiIxc4j"
      },
      "outputs": [],
      "source": [
        "# for(X_test, Y_test) in test_batched:\n",
        "#         acc, loss = test_model(X_test, Y_test, cnn_model, 1)"
      ]
    },
    {
      "cell_type": "code",
      "execution_count": null,
      "metadata": {
        "id": "bu--HmHm66Mr"
      },
      "outputs": [],
      "source": [
        "acc_list = cnn_model.history.history['accuracy']\n",
        "loss_list = cnn_model.history.history['loss']\n"
      ]
    },
    {
      "cell_type": "code",
      "execution_count": null,
      "metadata": {
        "colab": {
          "base_uri": "https://localhost:8080/",
          "height": 298
        },
        "id": "EqkLw3US-Ng4",
        "outputId": "a15c294b-fa8c-4885-df81-37727ca472b4"
      },
      "outputs": [
        {
          "name": "stdout",
          "output_type": "stream",
          "text": [
            "CNN Training for 20 epochs\n"
          ]
        },
        {
          "data": {
            "image/png": "[encoded data removed]",
            "text/plain": [
              "<Figure size 1080x288 with 2 Axes>"
            ]
          },
          "metadata": {},
          "output_type": "display_data"
        }
      ],
      "source": [
        "# Single CNN \n",
        "import matplotlib.pyplot as plt\n",
        "plt.figure(figsize=(15,4))\n",
        "plt.subplot(121)\n",
        "plt.title(\"CNN Training Losses for 20 epochs\")\n",
        "plt.plot(list(range(0,len(loss_list))), loss_list ,  label = \"CNN_loss\") \n",
        "plt.legend()\n",
        "plt.subplot(122)\n",
        "plt.title(\"CNN Training Accuracy for 20 epochs\")\n",
        "plt.plot(list(range(0,len(acc_list))), acc_list , label = 'CNN_accuracy' , color = 'orange')\n",
        "plt.legend()\n",
        "print('CNN Training for 20 epochs')"
      ]
    },
    {
      "cell_type": "code",
      "execution_count": null,
      "metadata": {
        "id": "65gGYkoW7ECj"
      },
      "outputs": [],
      "source": [
        "y_pred  = cnn_model.predict(X_test)\n",
        "# y_pred = np.argmax(y_pred,axis=1)\n",
        "print(y_pred)\n",
        "y_pred = lb.inverse_transform(y_pred)\n",
        "print(y_pred)"
      ]
    }
  ],
  "metadata": {
    "accelerator": "GPU",
    "colab": {
      "collapsed_sections": [],
      "name": "federated-learning Maths Handwritten.ipynb",
      "provenance": [],
      "include_colab_link": true
    },
    "kernelspec": {
      "display_name": "Python 3",
      "language": "python",
      "name": "python3"
    },
    "language_info": {
      "codemirror_mode": {
        "name": "ipython",
        "version": 3
      },
      "file_extension": ".py",
      "mimetype": "text/x-python",
      "name": "python",
      "nbconvert_exporter": "python",
      "pygments_lexer": "ipython3",
      "version": "3.9.7"
    }
  },
  "nbformat": 4,
  "nbformat_minor": 0
}